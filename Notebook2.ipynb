{
 "cells": [
  {
   "cell_type": "markdown",
   "metadata": {},
   "source": [
    "# Costa Rica Institute of Technology\n",
    "* Course: MP-6122 Pattern Recognition\n",
    "* Student: Jose Martinez Hdez\n",
    "* Course: Data Science \n",
    "* Year: 2022\n",
    "* Notebook 2: Supervised Learning Models"
   ]
  },
  {
   "cell_type": "markdown",
   "metadata": {},
   "source": [
    "# Models\n",
    "\n",
    "## Linear Models\n",
    "\n",
    "### Linear Regression\n",
    "\n",
    "### Logistic Regression\n",
    "\n",
    "### Support Vector Machines\n",
    "\n",
    "### Linear Models for multi-class classification\n",
    "\n",
    "\n",
    "## kNN\n",
    "\n",
    "## kNN for classification\n",
    "\n",
    "## kNN for regression\n",
    "\n",
    "## Naive Bayes\n",
    "\n",
    "## Decision Trees\n",
    "\n",
    "## Random Forests\n",
    "\n",
    "## Kernel Support Vector Machines"
   ]
  },
  {
   "cell_type": "markdown",
   "metadata": {},
   "source": [
    "# Ensemble Methods\n",
    "\n",
    "## Bagging\n",
    "\n",
    "## Boosting\n",
    "\n",
    "## Stacking"
   ]
  },
  {
   "cell_type": "markdown",
   "metadata": {},
   "source": [
    "# Is it possible to create an ensemble model? If so, how would it be the approach?"
   ]
  },
  {
   "cell_type": "markdown",
   "metadata": {},
   "source": [
    "# Metrics"
   ]
  }
 ],
 "metadata": {
  "language_info": {
   "name": "python"
  },
  "orig_nbformat": 4
 },
 "nbformat": 4,
 "nbformat_minor": 2
}

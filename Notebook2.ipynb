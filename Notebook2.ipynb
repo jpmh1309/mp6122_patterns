{
 "cells": [
  {
   "cell_type": "markdown",
   "metadata": {},
   "source": [
    "# Costa Rica Institute of Technology\n",
    "* Course: MP-6122 Pattern Recognition\n",
    "* Student: Jose Martinez Hdez\n",
    "* Course: Data Science \n",
    "* Year: 2022\n",
    "* Notebook 2: Supervised Learning Models"
   ]
  },
  {
   "cell_type": "markdown",
   "metadata": {},
   "source": [
    "# Importing Data"
   ]
  },
  {
   "cell_type": "code",
   "execution_count": 818,
   "metadata": {},
   "outputs": [],
   "source": [
    "# Importing libaries \n",
    "import numpy as np\n",
    "import pandas as pd\n",
    "from matplotlib import pyplot\n",
    "from sklearn.metrics import accuracy_score\n",
    "from sklearn.preprocessing import MinMaxScaler\n",
    "from sklearn.model_selection import train_test_split   "
   ]
  },
  {
   "cell_type": "markdown",
   "metadata": {},
   "source": [
    "## Classification Data"
   ]
  },
  {
   "cell_type": "code",
   "execution_count": 819,
   "metadata": {},
   "outputs": [
    {
     "data": {
      "text/html": [
       "<div>\n",
       "<style scoped>\n",
       "    .dataframe tbody tr th:only-of-type {\n",
       "        vertical-align: middle;\n",
       "    }\n",
       "\n",
       "    .dataframe tbody tr th {\n",
       "        vertical-align: top;\n",
       "    }\n",
       "\n",
       "    .dataframe thead th {\n",
       "        text-align: right;\n",
       "    }\n",
       "</style>\n",
       "<table border=\"1\" class=\"dataframe\">\n",
       "  <thead>\n",
       "    <tr style=\"text-align: right;\">\n",
       "      <th></th>\n",
       "      <th>code_number</th>\n",
       "      <th>Clump_Thickness</th>\n",
       "      <th>Uniformity_of_Cell_Size</th>\n",
       "      <th>Uniformity_of_Cell_Shape</th>\n",
       "      <th>Marginal_Adhesion</th>\n",
       "      <th>Single_Epithelial_Cell_Size</th>\n",
       "      <th>Bare_Nuclei</th>\n",
       "      <th>Bland_Chromatin</th>\n",
       "      <th>Normal_Nucleoli</th>\n",
       "      <th>Mitoses</th>\n",
       "      <th>Class</th>\n",
       "    </tr>\n",
       "  </thead>\n",
       "  <tbody>\n",
       "    <tr>\n",
       "      <th>0</th>\n",
       "      <td>1002945</td>\n",
       "      <td>5</td>\n",
       "      <td>4</td>\n",
       "      <td>4</td>\n",
       "      <td>5</td>\n",
       "      <td>7</td>\n",
       "      <td>10</td>\n",
       "      <td>3</td>\n",
       "      <td>2</td>\n",
       "      <td>1</td>\n",
       "      <td>2</td>\n",
       "    </tr>\n",
       "    <tr>\n",
       "      <th>1</th>\n",
       "      <td>1015425</td>\n",
       "      <td>3</td>\n",
       "      <td>1</td>\n",
       "      <td>1</td>\n",
       "      <td>1</td>\n",
       "      <td>2</td>\n",
       "      <td>2</td>\n",
       "      <td>3</td>\n",
       "      <td>1</td>\n",
       "      <td>1</td>\n",
       "      <td>2</td>\n",
       "    </tr>\n",
       "    <tr>\n",
       "      <th>2</th>\n",
       "      <td>1016277</td>\n",
       "      <td>6</td>\n",
       "      <td>8</td>\n",
       "      <td>8</td>\n",
       "      <td>1</td>\n",
       "      <td>3</td>\n",
       "      <td>4</td>\n",
       "      <td>3</td>\n",
       "      <td>7</td>\n",
       "      <td>1</td>\n",
       "      <td>2</td>\n",
       "    </tr>\n",
       "    <tr>\n",
       "      <th>3</th>\n",
       "      <td>1017023</td>\n",
       "      <td>4</td>\n",
       "      <td>1</td>\n",
       "      <td>1</td>\n",
       "      <td>3</td>\n",
       "      <td>2</td>\n",
       "      <td>1</td>\n",
       "      <td>3</td>\n",
       "      <td>1</td>\n",
       "      <td>1</td>\n",
       "      <td>2</td>\n",
       "    </tr>\n",
       "    <tr>\n",
       "      <th>4</th>\n",
       "      <td>1017122</td>\n",
       "      <td>8</td>\n",
       "      <td>10</td>\n",
       "      <td>10</td>\n",
       "      <td>8</td>\n",
       "      <td>7</td>\n",
       "      <td>10</td>\n",
       "      <td>9</td>\n",
       "      <td>7</td>\n",
       "      <td>1</td>\n",
       "      <td>4</td>\n",
       "    </tr>\n",
       "  </tbody>\n",
       "</table>\n",
       "</div>"
      ],
      "text/plain": [
       "   code_number  Clump_Thickness  Uniformity_of_Cell_Size  Uniformity_of_Cell_Shape  Marginal_Adhesion  Single_Epithelial_Cell_Size Bare_Nuclei  Bland_Chromatin  Normal_Nucleoli  Mitoses  Class\n",
       "0      1002945                5                        4                         4                  5                            7          10                3                2        1      2\n",
       "1      1015425                3                        1                         1                  1                            2           2                3                1        1      2\n",
       "2      1016277                6                        8                         8                  1                            3           4                3                7        1      2\n",
       "3      1017023                4                        1                         1                  3                            2           1                3                1        1      2\n",
       "4      1017122                8                       10                        10                  8                            7          10                9                7        1      4"
      ]
     },
     "execution_count": 819,
     "metadata": {},
     "output_type": "execute_result"
    }
   ],
   "source": [
    "df = pd.read_csv('dataset/breast-cancer-wisconsin.data')\n",
    "df.columns = ['code_number', 'Clump_Thickness','Uniformity_of_Cell_Size' ,'Uniformity_of_Cell_Shape', 'Marginal_Adhesion',\n",
    "              'Single_Epithelial_Cell_Size',  'Bare_Nuclei', 'Bland_Chromatin', 'Normal_Nucleoli' ,'Mitoses','Class']\n",
    "df.head()"
   ]
  },
  {
   "cell_type": "code",
   "execution_count": 820,
   "metadata": {},
   "outputs": [],
   "source": [
    "df = df.replace('?', np.nan)\n",
    "df.dropna(inplace=True)"
   ]
  },
  {
   "cell_type": "code",
   "execution_count": 821,
   "metadata": {},
   "outputs": [],
   "source": [
    "df.Class = df.Class.map({2: 0, 4:1})"
   ]
  },
  {
   "cell_type": "code",
   "execution_count": 822,
   "metadata": {},
   "outputs": [
    {
     "data": {
      "text/plain": [
       "<AxesSubplot:>"
      ]
     },
     "execution_count": 822,
     "metadata": {},
     "output_type": "execute_result"
    },
    {
     "data": {
      "image/png": "[encoded data removed]",
      "text/plain": [
       "<Figure size 1080x432 with 1 Axes>"
      ]
     },
     "metadata": {},
     "output_type": "display_data"
    }
   ],
   "source": [
    "df.Class.value_counts().plot.bar()"
   ]
  },
  {
   "cell_type": "code",
   "execution_count": 823,
   "metadata": {},
   "outputs": [],
   "source": [
    "X = df.drop(['code_number','Class'],axis=1).values\n",
    "Y = df.Class.values"
   ]
  },
  {
   "cell_type": "code",
   "execution_count": 824,
   "metadata": {},
   "outputs": [
    {
     "data": {
      "text/plain": [
       "array([0, 1], dtype=int64)"
      ]
     },
     "execution_count": 824,
     "metadata": {},
     "output_type": "execute_result"
    }
   ],
   "source": [
    "X_train, X_test, y_train, y_test = train_test_split(X, Y, test_size=0.20, random_state=42)\n",
    "df.Class.unique()"
   ]
  },
  {
   "cell_type": "markdown",
   "metadata": {},
   "source": [
    "## Regression Data"
   ]
  },
  {
   "cell_type": "code",
   "execution_count": 825,
   "metadata": {},
   "outputs": [
    {
     "data": {
      "text/html": [
       "<div>\n",
       "<style scoped>\n",
       "    .dataframe tbody tr th:only-of-type {\n",
       "        vertical-align: middle;\n",
       "    }\n",
       "\n",
       "    .dataframe tbody tr th {\n",
       "        vertical-align: top;\n",
       "    }\n",
       "\n",
       "    .dataframe thead th {\n",
       "        text-align: right;\n",
       "    }\n",
       "</style>\n",
       "<table border=\"1\" class=\"dataframe\">\n",
       "  <thead>\n",
       "    <tr style=\"text-align: right;\">\n",
       "      <th></th>\n",
       "      <th>code_number</th>\n",
       "      <th>Clump_Thickness</th>\n",
       "      <th>Uniformity_of_Cell_Size</th>\n",
       "      <th>Uniformity_of_Cell_Shape</th>\n",
       "      <th>Marginal_Adhesion</th>\n",
       "      <th>Single_Epithelial_Cell_Size</th>\n",
       "      <th>Bare_Nuclei</th>\n",
       "      <th>Bland_Chromatin</th>\n",
       "      <th>Normal_Nucleoli</th>\n",
       "      <th>Mitoses</th>\n",
       "      <th>Class</th>\n",
       "    </tr>\n",
       "  </thead>\n",
       "  <tbody>\n",
       "    <tr>\n",
       "      <th>0</th>\n",
       "      <td>1002945</td>\n",
       "      <td>5</td>\n",
       "      <td>4</td>\n",
       "      <td>4</td>\n",
       "      <td>5</td>\n",
       "      <td>7</td>\n",
       "      <td>10</td>\n",
       "      <td>3</td>\n",
       "      <td>2</td>\n",
       "      <td>1</td>\n",
       "      <td>0</td>\n",
       "    </tr>\n",
       "    <tr>\n",
       "      <th>1</th>\n",
       "      <td>1015425</td>\n",
       "      <td>3</td>\n",
       "      <td>1</td>\n",
       "      <td>1</td>\n",
       "      <td>1</td>\n",
       "      <td>2</td>\n",
       "      <td>2</td>\n",
       "      <td>3</td>\n",
       "      <td>1</td>\n",
       "      <td>1</td>\n",
       "      <td>0</td>\n",
       "    </tr>\n",
       "    <tr>\n",
       "      <th>2</th>\n",
       "      <td>1016277</td>\n",
       "      <td>6</td>\n",
       "      <td>8</td>\n",
       "      <td>8</td>\n",
       "      <td>1</td>\n",
       "      <td>3</td>\n",
       "      <td>4</td>\n",
       "      <td>3</td>\n",
       "      <td>7</td>\n",
       "      <td>1</td>\n",
       "      <td>0</td>\n",
       "    </tr>\n",
       "    <tr>\n",
       "      <th>3</th>\n",
       "      <td>1017023</td>\n",
       "      <td>4</td>\n",
       "      <td>1</td>\n",
       "      <td>1</td>\n",
       "      <td>3</td>\n",
       "      <td>2</td>\n",
       "      <td>1</td>\n",
       "      <td>3</td>\n",
       "      <td>1</td>\n",
       "      <td>1</td>\n",
       "      <td>0</td>\n",
       "    </tr>\n",
       "    <tr>\n",
       "      <th>4</th>\n",
       "      <td>1017122</td>\n",
       "      <td>8</td>\n",
       "      <td>10</td>\n",
       "      <td>10</td>\n",
       "      <td>8</td>\n",
       "      <td>7</td>\n",
       "      <td>10</td>\n",
       "      <td>9</td>\n",
       "      <td>7</td>\n",
       "      <td>1</td>\n",
       "      <td>1</td>\n",
       "    </tr>\n",
       "  </tbody>\n",
       "</table>\n",
       "</div>"
      ],
      "text/plain": [
       "   code_number  Clump_Thickness  Uniformity_of_Cell_Size  Uniformity_of_Cell_Shape  Marginal_Adhesion  Single_Epithelial_Cell_Size Bare_Nuclei  Bland_Chromatin  Normal_Nucleoli  Mitoses  Class\n",
       "0      1002945                5                        4                         4                  5                            7          10                3                2        1      0\n",
       "1      1015425                3                        1                         1                  1                            2           2                3                1        1      0\n",
       "2      1016277                6                        8                         8                  1                            3           4                3                7        1      0\n",
       "3      1017023                4                        1                         1                  3                            2           1                3                1        1      0\n",
       "4      1017122                8                       10                        10                  8                            7          10                9                7        1      1"
      ]
     },
     "execution_count": 825,
     "metadata": {},
     "output_type": "execute_result"
    }
   ],
   "source": [
    "column_names = ['CRIM', 'ZN', 'INDUS', 'CHAS', 'NOX', 'RM', 'AGE', 'DIS', 'RAD', 'TAX', 'PTRATIO', 'B', 'LSTAT', 'MEDV']\n",
    "data = pd.read_csv('dataset/housing.csv', header=None, delimiter=r\"\\s+\", names=column_names)\n",
    "df.head()"
   ]
  },
  {
   "cell_type": "code",
   "execution_count": 826,
   "metadata": {},
   "outputs": [],
   "source": [
    "column_sels = ['CRIM', 'ZN', 'INDUS', 'CHAS', 'NOX', 'RM', 'AGE', 'DIS', 'RAD', 'TAX', 'PTRATIO', 'B', 'LSTAT']\n",
    "x = data.loc[:,column_sels]\n",
    "y = data['MEDV']"
   ]
  },
  {
   "cell_type": "code",
   "execution_count": 827,
   "metadata": {},
   "outputs": [],
   "source": [
    "min_max_scaler = MinMaxScaler()\n",
    "x = pd.DataFrame(data=min_max_scaler.fit_transform(x), columns=column_sels)"
   ]
  },
  {
   "cell_type": "markdown",
   "metadata": {},
   "source": [
    "# Models"
   ]
  },
  {
   "cell_type": "markdown",
   "metadata": {},
   "source": [
    "## Linear Regression (Regression)\n",
    "\n",
    "### Conceptual Explanation \n",
    "\n",
    "Linear Regression is the supervised machine learning model in which the model finds the best fit linear line between the independent and dependent variable i.e it finds the linear relationship between the dependent and independent variable.\n",
    "\n",
    "<img src=\"images/linear.png\" width=400 height=400 />\n",
    "\n",
    "### Mathematical \n",
    "\n",
    "From basic linear algebra, we should remember that the linear regression model is a linear combination of the independent variables, that is described by the following equation: \n",
    "\n",
    "$y = b_0 + b_1 \\cdot x$\n",
    "\n",
    "Where $b_0$ is the intercept and $b_1$ is the slope.\n",
    "\n",
    "So, the main idea of linear regression is to find the best fit line between the independent and dependent variables. This can be done by finding the value of the slope ($b_1$) and the intercept ($b_0$) in the linear equation that reduces the error between a predicted value from the model and the actual value from the data. \n",
    "\n",
    "We create a hipotetic model by using the following equation:\n",
    "\n",
    "$h(x) = b_0 + b_1 \\cdot x$\n",
    "\n",
    "And then we calculate the error between the actual value and the predicted value by using the following cost equation of the squared error:\n",
    "\n",
    "$J(b_0, b_1) = \\frac{1}{2m} \\sum_{1=n}^{i=1} (h(x_n) - y_n)^2$\n",
    "\n",
    "### Optimal Applications \n",
    "\n",
    "This model has the following assumptions and limitations: \n",
    "\n",
    "1. *Linearity*: The relationship between the dependent and independent variables is linear.\n",
    "2. *Homoscedasticity*: The error is homoscedastic. The variance of the error terms should be constant i.e the spread of residuals should be constant for all values of X. This assumption can be checked by plotting a residual plot. If the assumption is violated then the points will form a funnel shape otherwise they will be constant.\n",
    "3. *Independence*:  The variables should be independent of each other i.e no correlation should be there between the independent variables.\n",
    "4. *Normality*: The $x$ and $y$ variables should be normally distributed.\n",
    "\n",
    "Basically, this model will work well when the assumptions are satisfied. The violation of the assumptions leads to a decrease in the accuracy of the model therefore the predictions are not accurate and error is also high.\n",
    "\n",
    "**References**: \n",
    "\n",
    "- https://towardsdatascience.com/ensemble-models-5a62d4f4cb0chttps://www.analyticsvidhya.com/blog/2021/05/all-you-need-to-know-about-your-first-machine-learning-model-linear-regression/#:~:text=In%20the%20most%20simple%20words,the%20dependent%20and%20independent%20variable.\n",
    "- https://www.youtube.com/watch?v=1-OGRohmH2s\n",
    "- https://towardsdatascience.com/mathematics-for-machine-learning-linear-regression-least-square-regression-de09cf53757c"
   ]
  },
  {
   "cell_type": "code",
   "execution_count": 828,
   "metadata": {},
   "outputs": [
    {
     "name": "stdout",
     "output_type": "stream",
     "text": [
      "0.7406426641094095\n",
      "[ -9.60975755   4.64204584   0.56083933   2.68673382  -8.63457306\n",
      "  19.88368651   0.06721501 -16.22666104   7.03913802  -6.46332721\n",
      "  -8.95582398   3.69282735 -19.01724361]\n",
      "26.620267584687756\n"
     ]
    }
   ],
   "source": [
    "# Example of Linear Regression\n",
    "from sklearn.linear_model import LinearRegression\n",
    "\n",
    "regressor = LinearRegression()\n",
    "regressor.fit(x, y)\n",
    "print(regressor.score(x, y))\n",
    "print(regressor.coef_)\n",
    "print(regressor.intercept_)\n"
   ]
  },
  {
   "cell_type": "markdown",
   "metadata": {},
   "source": [
    "## Logistic Regression (Classification)\n",
    "\n",
    "### Conceptual Explanation \n",
    "\n",
    "Linear Regression is the supervised Machine Learning model in which the model finds the best fit linear line between the independent and dependent variable i.e it finds the linear relationship between the dependent and independent variable.\n",
    "\n",
    "### Mathematical \n",
    "\n",
    "$y = b_0 + b_1 \\cdot x$\n",
    "\n",
    "### Optimal Applications\n",
    "\n",
    "**References**: \n",
    "\n",
    "- *link* "
   ]
  },
  {
   "cell_type": "code",
   "execution_count": 829,
   "metadata": {},
   "outputs": [
    {
     "data": {
      "text/plain": [
       "'\\nfrom sklearn.linear_model import LogisticRegression\\n\\nclassifier = LogisticRegression(random_state=0)\\nclassifier.fit(X_train, y_train)\\nprint(regressor.score(X_train, y_train))\\n'"
      ]
     },
     "execution_count": 829,
     "metadata": {},
     "output_type": "execute_result"
    }
   ],
   "source": [
    "# Example of Logistic Regression\n",
    "\n",
    "# Example of Linear Regression\n",
    "\"\"\"\n",
    "from sklearn.linear_model import LogisticRegression\n",
    "\n",
    "classifier = LogisticRegression(random_state=0)\n",
    "classifier.fit(X_train, y_train)\n",
    "print(regressor.score(X_train, y_train))\n",
    "\"\"\""
   ]
  },
  {
   "cell_type": "markdown",
   "metadata": {},
   "source": [
    "## Support Vector Machines (Classification)\n",
    "\n",
    "### Conceptual Explanation \n",
    "\n",
    "The objective of the support vector machine algorithm is to find a hyperplane in an N-dimensional space(N — the number of features) that distinctly classifies the data points.\n",
    "\n",
    "![svm](images/svm.png)\n",
    "\n",
    "### Mathematical \n",
    "\n",
    "$y = b_0 + b_1 \\cdot x_1 + b_2 \\cdot x_2 + ... + b_n \\cdot x_n $\n",
    "\n",
    "### Optimal Applications\n",
    "\n",
    "**References**: \n",
    "\n",
    "- https://towardsdatascience.com/support-vector-machine-introduction-to-machine-learning-algorithms-934a444fca47"
   ]
  },
  {
   "cell_type": "code",
   "execution_count": 830,
   "metadata": {},
   "outputs": [],
   "source": [
    "# Example of SVM"
   ]
  },
  {
   "cell_type": "markdown",
   "metadata": {},
   "source": [
    "## Linear Models for multi-class classification (Classification)\n",
    "\n",
    "### Conceptual Explanation \n",
    "\n",
    "Linear Regression is the supervised Machine Learning model in which the model finds the best fit linear line between the independent and dependent variable i.e it finds the linear relationship between the dependent and independent variable.\n",
    "\n",
    "### Mathematical \n",
    "\n",
    "$y = b_0 + b_1 \\cdot x_1 + b_2 \\cdot x_2 + ... + b_n \\cdot x_n $\n",
    "\n",
    "### Optimal Applications\n",
    "\n",
    "**References**: \n",
    "\n",
    "- *link* "
   ]
  },
  {
   "cell_type": "code",
   "execution_count": 831,
   "metadata": {},
   "outputs": [],
   "source": [
    "# Example of Linear Models for multi-class classification\n",
    "from sklearn.linear_model import LinearRegression"
   ]
  },
  {
   "cell_type": "markdown",
   "metadata": {},
   "source": [
    "## kNN\n",
    "\n",
    "### Conceptual Explanation \n",
    "\n",
    "Linear Regression is the supervised Machine Learning model in which the model finds the best fit linear line between the independent and dependent variable i.e it finds the linear relationship between the dependent and independent variable.\n",
    "\n",
    "### Mathematical \n",
    "\n",
    "$y = b_0 + b_1 \\cdot x$\n",
    "\n",
    "### Optimal Applications\n",
    "\n",
    "### kNN for classification\n",
    "\n",
    "### kNN for regression\n",
    "\n",
    "**References**: \n",
    "\n",
    "- *link* "
   ]
  },
  {
   "cell_type": "code",
   "execution_count": 832,
   "metadata": {},
   "outputs": [],
   "source": [
    "# Example of kNN"
   ]
  },
  {
   "cell_type": "markdown",
   "metadata": {},
   "source": [
    "## Naive Bayes (Classification)\n",
    "\n",
    "### Conceptual Explanation \n",
    "\n",
    "In statistics, naive Bayes classifiers are a family of simple \"probabilistic classifiers\" based on applying Bayes' theorem with strong (naive) independence assumptions between the features (see Bayes classifier). They are among the simplest Bayesian network models, but coupled with kernel density estimation, they can achieve high accuracy levels.\n",
    "\n",
    "### Mathematical \n",
    "\n",
    "$y = b_0 + b_1 \\cdot x$\n",
    "\n",
    "### Optimal Applications\n",
    "\n",
    "**References**: \n",
    "\n",
    "- *link* \n"
   ]
  },
  {
   "cell_type": "code",
   "execution_count": 833,
   "metadata": {},
   "outputs": [],
   "source": [
    "# Example of Naive Bayes"
   ]
  },
  {
   "cell_type": "markdown",
   "metadata": {},
   "source": [
    "## Decision Trees (Classification)\n",
    "\n",
    "### Conceptual Explanation \n",
    "\n",
    "Linear Regression is the supervised Machine Learning model in which the model finds the best fit linear line between the independent and dependent variable i.e it finds the linear relationship between the dependent and independent variable.\n",
    "\n",
    "### Mathematical \n",
    "\n",
    "$y = b_0 + b_1 \\cdot x$\n",
    "\n",
    "### Optimal Applications\n",
    "\n",
    "**References**: \n",
    "\n",
    "- *link* "
   ]
  },
  {
   "cell_type": "code",
   "execution_count": 834,
   "metadata": {},
   "outputs": [],
   "source": [
    "# Example of Decision Trees"
   ]
  },
  {
   "cell_type": "markdown",
   "metadata": {},
   "source": [
    "## Random Forests (Classification)\n",
    "\n",
    "### Conceptual Explanation \n",
    "\n",
    "Linear Regression is the supervised Machine Learning model in which the model finds the best fit linear line between the independent and dependent variable i.e it finds the linear relationship between the dependent and independent variable.\n",
    "\n",
    "### Mathematical \n",
    "\n",
    "$y = b_0 + b_1 \\cdot x$\n",
    "\n",
    "### Optimal Applications\n",
    "\n",
    "**References**: \n",
    "\n",
    "- *link* "
   ]
  },
  {
   "cell_type": "code",
   "execution_count": 835,
   "metadata": {},
   "outputs": [],
   "source": [
    "# Example of Random Forest"
   ]
  },
  {
   "cell_type": "markdown",
   "metadata": {},
   "source": [
    "## Kernel Support Vector Machines (Classification)\n",
    "\n",
    "### Conceptual Explanation \n",
    "\n",
    "Linear Regression is the supervised Machine Learning model in which the model finds the best fit linear line between the independent and dependent variable i.e it finds the linear relationship between the dependent and independent variable.\n",
    "\n",
    "### Mathematical \n",
    "\n",
    "$y = b_0 + b_1 \\cdot x$\n",
    "\n",
    "### Optimal Applications\n",
    "\n",
    "**References**: \n",
    "\n",
    "- *link*"
   ]
  },
  {
   "cell_type": "code",
   "execution_count": 836,
   "metadata": {},
   "outputs": [],
   "source": [
    "# Example of kernel SVM"
   ]
  },
  {
   "cell_type": "markdown",
   "metadata": {},
   "source": [
    "# Ensemble Methods\n",
    "\n",
    "**References**: \n",
    "\n",
    "- https://towardsdatascience.com/ensemble-models-5a62d4f4cb0c\n",
    "- https://www.analyticsvidhya.com/blog/2018/06/comprehensive-guide-for-ensemble-models/"
   ]
  },
  {
   "cell_type": "markdown",
   "metadata": {},
   "source": [
    "# Simple Ensemble Methods\n",
    "\n",
    "## Max Voting\n",
    "\n",
    "### Conceptual Explanation \n",
    "\n",
    "Linear Regression is the supervised Machine Learning model in which the model finds the best fit linear line between the independent and dependent variable i.e it finds the linear relationship between the dependent and independent variable.\n",
    "\n",
    "### Mathematical \n",
    "\n",
    "$y = b_0 + b_1 \\cdot x$\n",
    "\n",
    "### Optimal Applications\n",
    "\n",
    "### Example of the model\n",
    "\n",
    "**References**: \n",
    "\n",
    "- *link* \n",
    "\n",
    "## Averaging\n",
    "\n",
    "### Conceptual Explanation \n",
    "\n",
    "Linear Regression is the supervised Machine Learning model in which the model finds the best fit linear line between the independent and dependent variable i.e it finds the linear relationship between the dependent and independent variable.\n",
    "\n",
    "### Mathematical \n",
    "\n",
    "$y = b_0 + b_1 \\cdot x$\n",
    "\n",
    "### Optimal Applications\n",
    "\n",
    "### Example of the model\n",
    "\n",
    "**References**: \n",
    "\n",
    "- *link* \n",
    "\n",
    "## Weighted Average\n",
    "\n",
    "### Conceptual Explanation \n",
    "\n",
    "Linear Regression is the supervised Machine Learning model in which the model finds the best fit linear line between the independent and dependent variable i.e it finds the linear relationship between the dependent and independent variable.\n",
    "\n",
    "### Mathematical \n",
    "\n",
    "$y = b_0 + b_1 \\cdot x$\n",
    "\n",
    "### Optimal Applications\n",
    "\n",
    "### Example of the model\n",
    "\n",
    "**References**: \n",
    "\n",
    "- *link* "
   ]
  },
  {
   "cell_type": "code",
   "execution_count": 837,
   "metadata": {},
   "outputs": [],
   "source": [
    "# Example of simple emsemble methods"
   ]
  },
  {
   "cell_type": "markdown",
   "metadata": {},
   "source": [
    "# Advanced Ensemble Methods\n",
    "\n",
    "## Bagging\n",
    "\n",
    "### Conceptual Explanation \n",
    "\n",
    "Linear Regression is the supervised Machine Learning model in which the model finds the best fit linear line between the independent and dependent variable i.e it finds the linear relationship between the dependent and independent variable.\n",
    "\n",
    "### Mathematical \n",
    "\n",
    "$y = b_0 + b_1 \\cdot x$\n",
    "\n",
    "### Optimal Applications\n",
    "\n",
    "### Example of the model\n",
    "\n",
    "**References**: \n",
    "\n",
    "- *link* \n",
    "\n",
    "## Boosting\n",
    "\n",
    "### Conceptual Explanation \n",
    "\n",
    "Linear Regression is the supervised Machine Learning model in which the model finds the best fit linear line between the independent and dependent variable i.e it finds the linear relationship between the dependent and independent variable.\n",
    "\n",
    "### Mathematical \n",
    "\n",
    "$y = b_0 + b_1 \\cdot x$\n",
    "\n",
    "### Optimal Applications\n",
    "\n",
    "### Example of the model\n",
    "\n",
    "**References**: \n",
    "\n",
    "- *link* \n",
    "\n",
    "## Stacking\n",
    "\n",
    "### Conceptual Explanation \n",
    "\n",
    "Linear Regression is the supervised Machine Learning model in which the model finds the best fit linear line between the independent and dependent variable i.e it finds the linear relationship between the dependent and independent variable.\n",
    "\n",
    "### Mathematical \n",
    "\n",
    "$y = b_0 + b_1 \\cdot x$\n",
    "\n",
    "### Optimal Applications\n",
    "\n",
    "### Example of the model\n",
    "\n",
    "**References**: \n",
    "\n",
    "- *link* \n",
    "\n",
    "## Blending\n",
    "\n",
    "### Conceptual Explanation \n",
    "\n",
    "Linear Regression is the supervised Machine Learning model in which the model finds the best fit linear line between the independent and dependent variable i.e it finds the linear relationship between the dependent and independent variable.\n",
    "\n",
    "### Mathematical \n",
    "\n",
    "$y = b_0 + b_1 \\cdot x$\n",
    "\n",
    "### Optimal Applications\n",
    "\n",
    "### Example of the model\n",
    "\n",
    "**References**: \n",
    "\n",
    "- *link* "
   ]
  },
  {
   "cell_type": "code",
   "execution_count": 838,
   "metadata": {},
   "outputs": [],
   "source": [
    "# Example of advanced emsemble tecnhiques"
   ]
  },
  {
   "cell_type": "markdown",
   "metadata": {},
   "source": [
    "# Is it possible to create our own ensemble model? If so, how would it be the approach?\n",
    "\n",
    "**References**: \n",
    "\n",
    "- *link* "
   ]
  },
  {
   "cell_type": "markdown",
   "metadata": {},
   "source": [
    "# Metrics\n",
    "\n",
    "Performance metrics are a part of every machine learning pipeline. They tell you if you’re making progress, and put a number on it. All machine learning models, whether it’s linear regression, or a SOTA technique like BERT, need a metric to judge performance\n",
    "\n",
    "**References**: \n",
    "\n",
    "- https://neptune.ai/blog/performance-metrics-in-machine-learning-complete-guide\n",
    "- https://scikit-learn.org/stable/modules/model_evaluation.html"
   ]
  },
  {
   "cell_type": "markdown",
   "metadata": {},
   "source": [
    "## Classification Metrics\n",
    "\n",
    "Classification models have discrete output, so we need a metric that compares discrete classes in some form. Classification Metrics evaluate a model’s performance and tell you how good or bad the classification is, but each of them evaluates it in a different way.\n",
    "\n",
    "The following are the metrics for evaluating classification problems:\n",
    "\n",
    "- Accuracy\n",
    "- Balanced Accuracy\n",
    "- Top k Accuracy\n",
    "- Average Precision\n",
    "- Brier Score\n",
    "- F1 Score\n",
    "- F1 Micro Score\n",
    "- F1 Macro Score\n",
    "- F1 Weighted Score\n",
    "- F1 Sample Score\n",
    "- Log Loss\n",
    "- Precision\n",
    "- Recall\n",
    "- Jaccard\n",
    "- Roc Auc\n",
    "- Roc Auc Overlap\n",
    "- Roc Auc Under Over\n",
    "\n",
    "In the following seccion, we will discuss more details of the most common metrics.\n",
    "\n",
    "### Confusion Matrix\n",
    "\n",
    "Confusion Matrix is a tabular visualization of the ground-truth labels versus model predictions. Each row of the confusion matrix represents the instances in a predicted class and each column represents the instances in an actual class. Confusion Matrix is not exactly a performance metric but sort of a basis on which other metrics evaluate the results. One example of a confusion matrix is the following image:\n",
    "\n",
    "![confusion](images/confusion.png)\n",
    "\n",
    "The confusion matrix is made up of the following elements:\n",
    "\n",
    "- **True Positives**: Number of correct predictions of the positive class.\n",
    "- **True Negatives**: Number of correct predictions of the negative class.\n",
    "- **False Positives**: Number of incorrect predictions of the positive class.\n",
    "- **False Negatives**: Number of incorrect predictions of the negative class.\n",
    "\n",
    "The idea is to try minimize the **False Positives** and **False Negatives**, since these are the ones that are most likely to be misclassified.\n",
    "\n",
    "### Accuracy\n",
    "\n",
    "Classification accuracy is perhaps the simplest metric to use and implement and is defined as the number of correct predictions divided by the total number of predictions, multiplied by 100.\n",
    "\n",
    "This metric is described with the following equation:\n",
    "\n",
    "$Accuracy = \\frac{TP + TN}{TP + FP + TN + FN}$ \n",
    "\n",
    "### Precision\n",
    "\n",
    "There are many cases in which classification accuracy is not a good indicator of your model performance. One of these scenarios is when your class distribution is imbalanced (one class is more frequent than others). In this case, even if you predict all samples as the most frequent class you would get a high accuracy rate, which does not make sense at all (because your model is not learning anything, and is just predicting everything as the top class). Precision is the ratio of true positives and total positives predicted. \n",
    "\n",
    "This metric is described with the following equation:\n",
    "\n",
    "$Precision = \\frac{TP}{TP+FP}$ \n",
    "\n",
    "### Recall\n",
    "\n",
    "Recall is another important metric, which is defined as the fraction of samples from a class which are correctly predicted by the model.\n",
    "\n",
    "This metric is described with the following equation:\n",
    "\n",
    "$Recall = \\frac{TP}{TP+FN}$ \n",
    "\n",
    "### F1\n",
    "\n",
    "Depending on application, you may want to give higher priority to recall or precision. But there are many applications in which both recall and precision are important. Therefore, it is natural to think of a way to combine these two into a single metric. One popular metric which combines precision and recall is called F1-score, which is the harmonic mean of precision and recall.\n",
    "\n",
    "This metric is described with the following equation:\n",
    "\n",
    "$F1 = \\frac{1}{\\frac{1}{Precision} + \\frac{1}{Recall}}$ \n",
    "\n",
    "### Receiver Operating Curve (ROC) \n",
    "\n",
    "The receiver operating characteristic curve is plot which shows the performance of a binary classifier as function of its cut-off threshold. It essentially shows the true positive rate (TPR) against the false positive rate (FPR) for various threshold values.\n",
    "\n",
    "One example of a ROC curve is the following image:\n",
    "\n",
    "![roc](images/roc.png)\n",
    "\n",
    "### Area Under the Curve (AUC)\n",
    "\n",
    "The area under the curve (AUC), is an aggregated measure of performance of a binary classifier on all possible threshold values (and therefore it is threshold invariant). AUC calculates the area under the ROC curve, and therefore it is between 0 and 1. One way of interpreting AUC is as the probability that the model ranks a random positive example more highly than a random negative example.\n",
    "\n",
    "One example of a AUC curve is the following image:\n",
    "\n",
    "![auc](images/auc.png)\n",
    "\n",
    "**References**: \n",
    "\n",
    "- https://neptune.ai/blog/performance-metrics-in-machine-learning-complete-guide#:~:text=Classification%20models%20have%20discrete%20output,it%20in%20a%20different%20way.\n",
    "- https://medium.com/@MohammedS/performance-metrics-for-classification-problems-in-machine-learning-part-i-b085d432082b\n",
    "- https://towardsdatascience.com/20-popular-machine-learning-metrics-part-1-classification-regression-evaluation-metrics-1ca3e282a2ce"
   ]
  },
  {
   "cell_type": "code",
   "execution_count": 839,
   "metadata": {},
   "outputs": [],
   "source": [
    "# Simple Example of Classification Metrics\n",
    "# Notebook from: https://app.neptune.ai/theaayushbajaj/sandbox/n/f884bbea-5263-4aeb-aa35-18d74b2835b9/41813125-2b9d-4332-b73f-f07c3b977372\n",
    "\n",
    "from sklearn.svm import SVC\n",
    "\n",
    "# Train a model\n",
    "clf = SVC(\n",
    "        C=1.0,\n",
    "        kernel='rbf',\n",
    "        degree=3,\n",
    "        gamma='scale',\n",
    "        coef0=0.0,\n",
    "        shrinking=True,\n",
    "        probability=False,\n",
    "        tol=0.001,\n",
    "        cache_size=200,\n",
    "        class_weight=None,\n",
    "        verbose=False,\n",
    "        max_iter=-1,\n",
    "        decision_function_shape='ovr',\n",
    "        break_ties=False,\n",
    "        random_state=None\n",
    "    )\n",
    "\n",
    "clf.fit(X_train,y_train)\n",
    "\n",
    "y_hat = clf.predict(X_test)"
   ]
  },
  {
   "cell_type": "code",
   "execution_count": 840,
   "metadata": {},
   "outputs": [
    {
     "name": "stdout",
     "output_type": "stream",
     "text": [
      "Accuracy Score is 0.9635036496350365\n"
     ]
    }
   ],
   "source": [
    "from sklearn.metrics import accuracy_score\n",
    "\n",
    "# Accuracy\n",
    "print(f'Accuracy Score is {accuracy_score(y_test,y_hat)}')"
   ]
  },
  {
   "cell_type": "code",
   "execution_count": 841,
   "metadata": {},
   "outputs": [
    {
     "name": "stdout",
     "output_type": "stream",
     "text": [
      "Precision: 0.959184\n"
     ]
    }
   ],
   "source": [
    "from sklearn.metrics import precision_score\n",
    "# Precision\n",
    "precision = precision_score(y_test, y_hat)\n",
    "print('Precision: %f' % precision)"
   ]
  },
  {
   "cell_type": "code",
   "execution_count": 842,
   "metadata": {},
   "outputs": [
    {
     "name": "stdout",
     "output_type": "stream",
     "text": [
      "Recall: 0.940000\n"
     ]
    }
   ],
   "source": [
    "from sklearn.metrics import recall_score\n",
    "# Recall\n",
    "recall = recall_score(y_test, y_hat)\n",
    "print('Recall: %f' % recall)"
   ]
  },
  {
   "cell_type": "code",
   "execution_count": 843,
   "metadata": {},
   "outputs": [
    {
     "name": "stdout",
     "output_type": "stream",
     "text": [
      "F1 Score: 0.949495\n"
     ]
    }
   ],
   "source": [
    "from sklearn.metrics import f1_score\n",
    "# F1 Score\n",
    "f1 = f1_score(y_test, y_hat)\n",
    "print('F1 Score: %f' % f1)"
   ]
  },
  {
   "cell_type": "code",
   "execution_count": 844,
   "metadata": {},
   "outputs": [
    {
     "data": {
      "text/plain": [
       "Text(0.5, 1.0, '2-class Precision-Recall curve: AP=0.96')"
      ]
     },
     "execution_count": 844,
     "metadata": {},
     "output_type": "execute_result"
    },
    {
     "data": {
      "image/png": "[encoded data removed]",
      "text/plain": [
       "<Figure size 1080x432 with 1 Axes>"
      ]
     },
     "metadata": {},
     "output_type": "display_data"
    }
   ],
   "source": [
    "from sklearn.metrics import plot_precision_recall_curve\n",
    "\n",
    "# Plot Precision-Recall Curve\n",
    "disp = plot_precision_recall_curve(clf, X, Y)\n",
    "disp.ax_.set_title('2-class Precision-Recall curve: AP={0:0.2f}'.format(precision))"
   ]
  },
  {
   "cell_type": "code",
   "execution_count": 845,
   "metadata": {},
   "outputs": [
    {
     "ename": "SyntaxError",
     "evalue": "closing parenthesis ']' does not match opening parenthesis '(' (Temp/ipykernel_21984/640381356.py, line 4)",
     "output_type": "error",
     "traceback": [
      "\u001b[1;36m  File \u001b[1;32m\"C:\\Users\\jpmh1\\AppData\\Local\\Temp/ipykernel_21984/640381356.py\"\u001b[1;36m, line \u001b[1;32m4\u001b[0m\n\u001b[1;33m    ns_probs = [0 for _ in range(len(Y)])\u001b[0m\n\u001b[1;37m                                       ^\u001b[0m\n\u001b[1;31mSyntaxError\u001b[0m\u001b[1;31m:\u001b[0m closing parenthesis ']' does not match opening parenthesis '('\n"
     ]
    }
   ],
   "source": [
    "from sklearn.metrics import roc_curve\n",
    "from sklearn.metrics import roc_auc_score\n",
    "\n",
    "ns_probs = [0 for _ in range(len(Y)])\n",
    "\n",
    "# calculate scores\n",
    "ns_auc = roc_auc_score(Y, ns_probs)\n",
    "\n",
    "# summarize scores\n",
    "print('No Skill: ROC AUC=%.3f' % (ns_auc))\n",
    "\n",
    "# calculate roc curves\n",
    "ns_fpr, ns_tpr, _ = roc_curve(Y, ns_probs)\n",
    "\n",
    "# plot the roc curve for the model\n",
    "pyplot.plot(ns_fpr, ns_tpr, linestyle='--', label='No Skill')\n",
    "\n",
    "pyplot.xlabel('False Positive Rate')\n",
    "pyplot.ylabel('True Positive Rate')\n",
    "\n",
    "pyplot.legend()\n",
    "pyplot.show()"
   ]
  },
  {
   "cell_type": "markdown",
   "metadata": {},
   "source": [
    "## Regression Metrics\n",
    "\n",
    "Regression refers to predictive modeling problems that involve predicting a numeric value.\n",
    "\n",
    "It is different from classification that involves predicting a class label. Unlike classification, you cannot use classification accuracy to evaluate the predictions made by a regression model. Instead, you must use error metrics specifically designed for evaluating predictions made on regression problems and it is most Robust to outliers.\n",
    "\n",
    "The following are the metrics for evaluating regression problems:\n",
    "\n",
    "- Max Error\n",
    "- Mean Absolute Error\n",
    "- Mean Squared Error\n",
    "- Root Mean Squared Error\n",
    "- Mean Squared Logarithmic Error\n",
    "- Median Absolute Error\n",
    "- R-Squared\n",
    "- Explained Variance\n",
    "- Mean Poisson Deviance\n",
    "- Mean Gamma Deviance\n",
    "- Mean Absolute Percentage Error\n",
    "\n",
    "In the following seccion, we will discuss more details of the most common metrics.\n",
    "\n",
    "### Mean Absolute Error (MAE)\n",
    "\n",
    "MAE is a very simple metric which calculates the absolute difference between actual and predicted values. It has the advantage that the MAE you get is in the same unit as the output variable.\n",
    "\n",
    "In contrast, the disadvantage is that the graph of MAE is not differentiable so we have to apply various optimizers like gradient descent which can be differentiable.\n",
    "\n",
    "This metric is described with the following equation:\n",
    "\n",
    "$MAE = \\frac{1}{n} \\sum_{1=n}^{i=1} \\left|h(x_n) - y_n\\right|$\n",
    "\n",
    "### Mean Squared Error (MSE)\n",
    "\n",
    "It represents the squared distance between actual and predicted values. we perform squared to avoid the cancellation of negative terms and it is the benefit of MSE. MSE is a most used and very simple metric with a little bit of change in mean absolute error. Mean squared error states that finding the squared difference between actual and predicted value.\n",
    "\n",
    "So, above we are finding the absolute difference and here we are finding the squared difference. The graph of MSE is differentiable, so you can easily use it as a loss function.\n",
    "\n",
    "It has the disadvantage that the value you get after calculating MSE is a squared unit of output. For example, the output variable is in meter (m) then after calculating MSE the output we get is in meter squared and if the data has outliers t then it penalizes the outliers most and the calculated MSE is bigger. So, in short, it is not robust to outliers which were an advantage in MAE.\n",
    "\n",
    "This metric is described with the following equation:\n",
    "\n",
    "$MSE = \\frac{1}{n} \\sum_{1=n}^{i=1} \\left(h(x_n) - y_n\\right)^2$\n",
    "\n",
    "### Root Mean Squared Error (RMSE)\n",
    "\n",
    "As RMSE is clear by the name itself, that it is a simple square root of mean squared error. It has the advantage that the output value you get is in the same unit as the required output variable which makes interpretation of loss easy, but it is not that robust to outliers as compared to MAE.\n",
    "\n",
    "This metric is described with the following equation:\n",
    "\n",
    "$RMSE = \\sqrt{\\frac{1}{n} \\sum_{1=n}^{i=1} \\left(h(x_n) - y_n\\right)^2}$\n",
    "\n",
    "### Root Mean Squared Logarithmic Error (RMSLE)\n",
    "\n",
    "Taking the $\\log$ of the RMSE metric slows down the scale of error. The metric is very helpful when you are developing a model without calling the inputs. In that case, the output will vary on a large scale. To control this situation of RMSE we take the $\\log$  of calculated RMSE error and resultant we get as RMSLE.\n",
    "\n",
    "This metric is described with the following equation:\n",
    "\n",
    "$RMSLE = \\sqrt{\\frac{1}{n} \\sum_{1=n}^{i=1} \\left( \\log \\left(h(x_n) + 1\\right) - \\log \\left( y_n + 1 \\right) \\right)^2}$\n",
    "\n",
    "### R Squared ($R^2$)\n",
    "\n",
    "$R^2$ score is a metric that tells the performance of your model, not the loss in an absolute sense that how many wells did your model perform. In contrast, MAE and MSE depend on the context as we have seen whereas the R2 score is independent of context.\n",
    "\n",
    "So, with help of R squared we have a baseline model to compare a model which none of the other metrics provides. The same we have in classification problems which we call a threshold which is fixed at 0.5. So basically R2 squared calculates how must regression line is better than a mean line.\n",
    "\n",
    "This metric is described with the following equation:\n",
    "\n",
    "$R^2 = 1 - \\frac{RSS}{TSS}$ \n",
    "\n",
    "Where RSS is the Residual Sum of Squares and TSS is the Total Sum of Squares. They are described with the following formulas:\n",
    "\n",
    "$RSS =  \\sum_{1=n}^{i=1} \\left(h(x_n) - y_n\\right)^2$ \n",
    "\n",
    "$TSS =  \\sum_{1=n}^{i=1} \\left(h(x_n) - \\overline{y}\\right)^2 $ \n",
    "\n",
    "### Adjusted R Squared\n",
    "\n",
    "The disadvantage of the R2 score is while adding new features in data the R2 score starts increasing or remains constant but it never decreases because It assumes that while adding more data variance of data increases.\n",
    "\n",
    "But the problem is when we add an irrelevant feature in the dataset then at that time R2 sometimes starts increasing which is incorrect. Hence, To control this situation adjusted R Squared came into existence.\n",
    "\n",
    "This metric is described with the following equation:\n",
    "\n",
    "$R^2_a = 1 - \\left| \\left( \\frac{n-1}{n-k-1}\\right) \\times  \\left(1 - R2\\right) \\right|$ \n",
    "\n",
    "Where $k$ is the number of independent variables, $n$ is the number of observations, and $R^2$ is the R squared value.\n",
    "\n",
    "**References**: \n",
    "\n",
    "- https://towardsdatascience.com/20-popular-machine-learning-metrics-part-1-classification-regression-evaluation-metrics-1ca3e282a2ce\n",
    "- https://machinelearningmastery.com/regression-metrics-for-machine-learning/\n",
    "- https://www.analyticsvidhya.com/blog/2021/05/know-the-best-evaluation-metrics-for-your-regression-model/"
   ]
  },
  {
   "cell_type": "code",
   "execution_count": null,
   "metadata": {},
   "outputs": [],
   "source": [
    "# Simple Example of Regression Metrics\n",
    "# Notebook from: https://app.neptune.ai/theaayushbajaj/sandbox/n/f884bbea-5263-4aeb-aa35-18d74b2835b9/41813125-2b9d-4332-b73f-f07c3b977372\n",
    "from sklearn.linear_model import LinearRegression\n",
    "\n",
    "regressor = LinearRegression()\n",
    "regressor.fit(x, y)\n",
    "y_hat = regressor.predict(x)"
   ]
  },
  {
   "cell_type": "code",
   "execution_count": null,
   "metadata": {},
   "outputs": [
    {
     "name": "stdout",
     "output_type": "stream",
     "text": [
      "MAE: 3.27 (+/- 3.35)\n"
     ]
    }
   ],
   "source": [
    "mae = np.abs(y-y_hat)\n",
    "\n",
    "print(f\"MAE: {mae.mean():0.2f} (+/- {mae.std():0.2f})\")"
   ]
  },
  {
   "cell_type": "code",
   "execution_count": null,
   "metadata": {},
   "outputs": [
    {
     "name": "stdout",
     "output_type": "stream",
     "text": [
      "MSE: 21.89 (+/- 59.14)\n"
     ]
    }
   ],
   "source": [
    "mse = (y-y_hat)**2\n",
    "\n",
    "print(f\"MSE: {mse.mean():0.2f} (+/- {mse.std():0.2f})\")"
   ]
  },
  {
   "cell_type": "code",
   "execution_count": null,
   "metadata": {},
   "outputs": [
    {
     "name": "stdout",
     "output_type": "stream",
     "text": [
      "RMSE: 4.68\n"
     ]
    }
   ],
   "source": [
    "mse = (y-y_hat)**2\n",
    "\n",
    "rmse = np.sqrt(mse.mean())\n",
    "\n",
    "print(f\"RMSE: {rmse:0.2f}\")"
   ]
  },
  {
   "cell_type": "code",
   "execution_count": null,
   "metadata": {},
   "outputs": [
    {
     "name": "stdout",
     "output_type": "stream",
     "text": [
      "R^2 coefficient of determination: 74.06%\n"
     ]
    }
   ],
   "source": [
    "# R^2 coefficient of determination\n",
    "SE_line = sum((y-y_hat)**2)\n",
    "SE_mean = sum((y-y.mean())**2)\n",
    "\n",
    "r2 = 1-(SE_line/SE_mean)\n",
    "\n",
    "print(f\"R^2 coefficient of determination: {r2*100:0.2f}%\")"
   ]
  }
 ],
 "metadata": {
  "interpreter": {
   "hash": "762531c616344ec89a3ae3efe707c5228b11104740e698ce334efdf481e7418a"
  },
  "kernelspec": {
   "display_name": "Python 3.9.7 ('base')",
   "language": "python",
   "name": "python3"
  },
  "language_info": {
   "codemirror_mode": {
    "name": "ipython",
    "version": 3
   },
   "file_extension": ".py",
   "mimetype": "text/x-python",
   "name": "python",
   "nbconvert_exporter": "python",
   "pygments_lexer": "ipython3",
   "version": "3.9.7"
  },
  "orig_nbformat": 4
 },
 "nbformat": 4,
 "nbformat_minor": 2
}

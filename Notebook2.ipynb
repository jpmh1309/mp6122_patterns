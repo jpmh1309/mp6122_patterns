{
  "cells": [
    {
      "cell_type": "markdown",
      "metadata": {
        "id": "NkQCUpwtdq7L"
      },
      "source": [
        "# Costa Rica Institute of Technology\n",
        "* Course: MP-6122 Pattern Recognition\n",
        "* Student: Jose Martinez Hdez\n",
        "* Year: 2022\n",
        "* Notebook 2: Supervised Learning Models"
      ]
    },
    {
      "cell_type": "markdown",
      "metadata": {
        "id": "dI6gAS28dq7S"
      },
      "source": [
        "# Importing Data"
      ]
    },
    {
      "cell_type": "code",
      "execution_count": 1,
      "metadata": {
        "id": "7qWiAlVKdq7T",
        "colab": {
          "base_uri": "https://localhost:8080/"
        },
        "outputId": "f49b4a3a-1a18-452d-8e2b-4d61bc2b2ea7"
      },
      "outputs": [
        {
          "output_type": "stream",
          "name": "stdout",
          "text": [
            "Mounted at /content/drive\n"
          ]
        }
      ],
      "source": [
        "# Importing libaries \n",
        "import warnings\n",
        "import numpy as np\n",
        "import pandas as pd\n",
        "from matplotlib import pyplot\n",
        "from sklearn.metrics import accuracy_score\n",
        "from sklearn.preprocessing import MinMaxScaler\n",
        "from sklearn.model_selection import train_test_split\n",
        "from google.colab import drive, data_table\n",
        "\n",
        "\n",
        "warnings.filterwarnings(\"ignore\")\n",
        "warnings.warn(\"this will not show\")\n",
        "\n",
        "data_table.enable_dataframe_formatter()\n",
        "drive.mount('/content/drive', force_remount=True)"
      ]
    },
    {
      "cell_type": "markdown",
      "metadata": {
        "id": "_-oWCAxDdq7U"
      },
      "source": [
        "## Classification Data"
      ]
    },
    {
      "cell_type": "code",
      "execution_count": 2,
      "metadata": {
        "id": "qpWZg67Gdq7V",
        "outputId": "d68b79c5-a0d9-4194-df38-aab0f4ea47c9",
        "colab": {
          "base_uri": "https://localhost:8080/",
          "height": 207
        }
      },
      "outputs": [
        {
          "output_type": "execute_result",
          "data": {
            "text/plain": [
              "   code_number  Clump_Thickness  Uniformity_of_Cell_Size  \\\n",
              "0      1002945                5                        4   \n",
              "1      1015425                3                        1   \n",
              "2      1016277                6                        8   \n",
              "3      1017023                4                        1   \n",
              "4      1017122                8                       10   \n",
              "\n",
              "   Uniformity_of_Cell_Shape  Marginal_Adhesion  Single_Epithelial_Cell_Size  \\\n",
              "0                         4                  5                            7   \n",
              "1                         1                  1                            2   \n",
              "2                         8                  1                            3   \n",
              "3                         1                  3                            2   \n",
              "4                        10                  8                            7   \n",
              "\n",
              "  Bare_Nuclei  Bland_Chromatin  Normal_Nucleoli  Mitoses  Class  \n",
              "0          10                3                2        1      2  \n",
              "1           2                3                1        1      2  \n",
              "2           4                3                7        1      2  \n",
              "3           1                3                1        1      2  \n",
              "4          10                9                7        1      4  "
            ],
            "text/html": [
              "\n",
              "  <div id=\"df-6678ce8c-3c33-498e-862e-fc2a42305117\">\n",
              "    <div class=\"colab-df-container\">\n",
              "      <div>\n",
              "<style scoped>\n",
              "    .dataframe tbody tr th:only-of-type {\n",
              "        vertical-align: middle;\n",
              "    }\n",
              "\n",
              "    .dataframe tbody tr th {\n",
              "        vertical-align: top;\n",
              "    }\n",
              "\n",
              "    .dataframe thead th {\n",
              "        text-align: right;\n",
              "    }\n",
              "</style>\n",
              "<table border=\"1\" class=\"dataframe\">\n",
              "  <thead>\n",
              "    <tr style=\"text-align: right;\">\n",
              "      <th></th>\n",
              "      <th>code_number</th>\n",
              "      <th>Clump_Thickness</th>\n",
              "      <th>Uniformity_of_Cell_Size</th>\n",
              "      <th>Uniformity_of_Cell_Shape</th>\n",
              "      <th>Marginal_Adhesion</th>\n",
              "      <th>Single_Epithelial_Cell_Size</th>\n",
              "      <th>Bare_Nuclei</th>\n",
              "      <th>Bland_Chromatin</th>\n",
              "      <th>Normal_Nucleoli</th>\n",
              "      <th>Mitoses</th>\n",
              "      <th>Class</th>\n",
              "    </tr>\n",
              "  </thead>\n",
              "  <tbody>\n",
              "    <tr>\n",
              "      <th>0</th>\n",
              "      <td>1002945</td>\n",
              "      <td>5</td>\n",
              "      <td>4</td>\n",
              "      <td>4</td>\n",
              "      <td>5</td>\n",
              "      <td>7</td>\n",
              "      <td>10</td>\n",
              "      <td>3</td>\n",
              "      <td>2</td>\n",
              "      <td>1</td>\n",
              "      <td>2</td>\n",
              "    </tr>\n",
              "    <tr>\n",
              "      <th>1</th>\n",
              "      <td>1015425</td>\n",
              "      <td>3</td>\n",
              "      <td>1</td>\n",
              "      <td>1</td>\n",
              "      <td>1</td>\n",
              "      <td>2</td>\n",
              "      <td>2</td>\n",
              "      <td>3</td>\n",
              "      <td>1</td>\n",
              "      <td>1</td>\n",
              "      <td>2</td>\n",
              "    </tr>\n",
              "    <tr>\n",
              "      <th>2</th>\n",
              "      <td>1016277</td>\n",
              "      <td>6</td>\n",
              "      <td>8</td>\n",
              "      <td>8</td>\n",
              "      <td>1</td>\n",
              "      <td>3</td>\n",
              "      <td>4</td>\n",
              "      <td>3</td>\n",
              "      <td>7</td>\n",
              "      <td>1</td>\n",
              "      <td>2</td>\n",
              "    </tr>\n",
              "    <tr>\n",
              "      <th>3</th>\n",
              "      <td>1017023</td>\n",
              "      <td>4</td>\n",
              "      <td>1</td>\n",
              "      <td>1</td>\n",
              "      <td>3</td>\n",
              "      <td>2</td>\n",
              "      <td>1</td>\n",
              "      <td>3</td>\n",
              "      <td>1</td>\n",
              "      <td>1</td>\n",
              "      <td>2</td>\n",
              "    </tr>\n",
              "    <tr>\n",
              "      <th>4</th>\n",
              "      <td>1017122</td>\n",
              "      <td>8</td>\n",
              "      <td>10</td>\n",
              "      <td>10</td>\n",
              "      <td>8</td>\n",
              "      <td>7</td>\n",
              "      <td>10</td>\n",
              "      <td>9</td>\n",
              "      <td>7</td>\n",
              "      <td>1</td>\n",
              "      <td>4</td>\n",
              "    </tr>\n",
              "  </tbody>\n",
              "</table>\n",
              "</div>\n",
              "      <button class=\"colab-df-convert\" onclick=\"convertToInteractive('df-6678ce8c-3c33-498e-862e-fc2a42305117')\"\n",
              "              title=\"Convert this dataframe to an interactive table.\"\n",
              "              style=\"display:none;\">\n",
              "        \n",
              "  <svg xmlns=\"http://www.w3.org/2000/svg\" height=\"24px\"viewBox=\"0 0 24 24\"\n",
              "       width=\"24px\">\n",
              "    <path d=\"M0 0h24v24H0V0z\" fill=\"none\"/>\n",
              "    <path d=\"M18.56 5.44l.94 2.06.94-2.06 2.06-.94-2.06-.94-.94-2.06-.94 2.06-2.06.94zm-11 1L8.5 8.5l.94-2.06 2.06-.94-2.06-.94L8.5 2.5l-.94 2.06-2.06.94zm10 10l.94 2.06.94-2.06 2.06-.94-2.06-.94-.94-2.06-.94 2.06-2.06.94z\"/><path d=\"M17.41 7.96l-1.37-1.37c-.4-.4-.92-.59-1.43-.59-.52 0-1.04.2-1.43.59L10.3 9.45l-7.72 7.72c-.78.78-.78 2.05 0 2.83L4 21.41c.39.39.9.59 1.41.59.51 0 1.02-.2 1.41-.59l7.78-7.78 2.81-2.81c.8-.78.8-2.07 0-2.86zM5.41 20L4 18.59l7.72-7.72 1.47 1.35L5.41 20z\"/>\n",
              "  </svg>\n",
              "      </button>\n",
              "      \n",
              "  <style>\n",
              "    .colab-df-container {\n",
              "      display:flex;\n",
              "      flex-wrap:wrap;\n",
              "      gap: 12px;\n",
              "    }\n",
              "\n",
              "    .colab-df-convert {\n",
              "      background-color: #E8F0FE;\n",
              "      border: none;\n",
              "      border-radius: 50%;\n",
              "      cursor: pointer;\n",
              "      display: none;\n",
              "      fill: #1967D2;\n",
              "      height: 32px;\n",
              "      padding: 0 0 0 0;\n",
              "      width: 32px;\n",
              "    }\n",
              "\n",
              "    .colab-df-convert:hover {\n",
              "      background-color: #E2EBFA;\n",
              "      box-shadow: 0px 1px 2px rgba(60, 64, 67, 0.3), 0px 1px 3px 1px rgba(60, 64, 67, 0.15);\n",
              "      fill: #174EA6;\n",
              "    }\n",
              "\n",
              "    [theme=dark] .colab-df-convert {\n",
              "      background-color: #3B4455;\n",
              "      fill: #D2E3FC;\n",
              "    }\n",
              "\n",
              "    [theme=dark] .colab-df-convert:hover {\n",
              "      background-color: #434B5C;\n",
              "      box-shadow: 0px 1px 3px 1px rgba(0, 0, 0, 0.15);\n",
              "      filter: drop-shadow(0px 1px 2px rgba(0, 0, 0, 0.3));\n",
              "      fill: #FFFFFF;\n",
              "    }\n",
              "  </style>\n",
              "\n",
              "      <script>\n",
              "        const buttonEl =\n",
              "          document.querySelector('#df-6678ce8c-3c33-498e-862e-fc2a42305117 button.colab-df-convert');\n",
              "        buttonEl.style.display =\n",
              "          google.colab.kernel.accessAllowed ? 'block' : 'none';\n",
              "\n",
              "        async function convertToInteractive(key) {\n",
              "          const element = document.querySelector('#df-6678ce8c-3c33-498e-862e-fc2a42305117');\n",
              "          const dataTable =\n",
              "            await google.colab.kernel.invokeFunction('convertToInteractive',\n",
              "                                                     [key], {});\n",
              "          if (!dataTable) return;\n",
              "\n",
              "          const docLinkHtml = 'Like what you see? Visit the ' +\n",
              "            '<a target=\"_blank\" href=https://colab.research.google.com/notebooks/data_table.ipynb>data table notebook</a>'\n",
              "            + ' to learn more about interactive tables.';\n",
              "          element.innerHTML = '';\n",
              "          dataTable['output_type'] = 'display_data';\n",
              "          await google.colab.output.renderOutput(dataTable, element);\n",
              "          const docLink = document.createElement('div');\n",
              "          docLink.innerHTML = docLinkHtml;\n",
              "          element.appendChild(docLink);\n",
              "        }\n",
              "      </script>\n",
              "    </div>\n",
              "  </div>\n",
              "  "
            ],
            "application/vnd.google.colaboratory.module+javascript": "\n      import \"https://ssl.gstatic.com/colaboratory/data_table/81f25a011006ed3d/data_table.js\";\n\n      window.createDataTable({\n        data: [[{\n            'v': 0,\n            'f': \"0\",\n        },\n{\n            'v': 1002945,\n            'f': \"1002945\",\n        },\n{\n            'v': 5,\n            'f': \"5\",\n        },\n{\n            'v': 4,\n            'f': \"4\",\n        },\n{\n            'v': 4,\n            'f': \"4\",\n        },\n{\n            'v': 5,\n            'f': \"5\",\n        },\n{\n            'v': 7,\n            'f': \"7\",\n        },\n\"10\",\n{\n            'v': 3,\n            'f': \"3\",\n        },\n{\n            'v': 2,\n            'f': \"2\",\n        },\n{\n            'v': 1,\n            'f': \"1\",\n        },\n{\n            'v': 2,\n            'f': \"2\",\n        }],\n [{\n            'v': 1,\n            'f': \"1\",\n        },\n{\n            'v': 1015425,\n            'f': \"1015425\",\n        },\n{\n            'v': 3,\n            'f': \"3\",\n        },\n{\n            'v': 1,\n            'f': \"1\",\n        },\n{\n            'v': 1,\n            'f': \"1\",\n        },\n{\n            'v': 1,\n            'f': \"1\",\n        },\n{\n            'v': 2,\n            'f': \"2\",\n        },\n\"2\",\n{\n            'v': 3,\n            'f': \"3\",\n        },\n{\n            'v': 1,\n            'f': \"1\",\n        },\n{\n            'v': 1,\n            'f': \"1\",\n        },\n{\n            'v': 2,\n            'f': \"2\",\n        }],\n [{\n            'v': 2,\n            'f': \"2\",\n        },\n{\n            'v': 1016277,\n            'f': \"1016277\",\n        },\n{\n            'v': 6,\n            'f': \"6\",\n        },\n{\n            'v': 8,\n            'f': \"8\",\n        },\n{\n            'v': 8,\n            'f': \"8\",\n        },\n{\n            'v': 1,\n            'f': \"1\",\n        },\n{\n            'v': 3,\n            'f': \"3\",\n        },\n\"4\",\n{\n            'v': 3,\n            'f': \"3\",\n        },\n{\n            'v': 7,\n            'f': \"7\",\n        },\n{\n            'v': 1,\n            'f': \"1\",\n        },\n{\n            'v': 2,\n            'f': \"2\",\n        }],\n [{\n            'v': 3,\n            'f': \"3\",\n        },\n{\n            'v': 1017023,\n            'f': \"1017023\",\n        },\n{\n            'v': 4,\n            'f': \"4\",\n        },\n{\n            'v': 1,\n            'f': \"1\",\n        },\n{\n            'v': 1,\n            'f': \"1\",\n        },\n{\n            'v': 3,\n            'f': \"3\",\n        },\n{\n            'v': 2,\n            'f': \"2\",\n        },\n\"1\",\n{\n            'v': 3,\n            'f': \"3\",\n        },\n{\n            'v': 1,\n            'f': \"1\",\n        },\n{\n            'v': 1,\n            'f': \"1\",\n        },\n{\n            'v': 2,\n            'f': \"2\",\n        }],\n [{\n            'v': 4,\n            'f': \"4\",\n        },\n{\n            'v': 1017122,\n            'f': \"1017122\",\n        },\n{\n            'v': 8,\n            'f': \"8\",\n        },\n{\n            'v': 10,\n            'f': \"10\",\n        },\n{\n            'v': 10,\n            'f': \"10\",\n        },\n{\n            'v': 8,\n            'f': \"8\",\n        },\n{\n            'v': 7,\n            'f': \"7\",\n        },\n\"10\",\n{\n            'v': 9,\n            'f': \"9\",\n        },\n{\n            'v': 7,\n            'f': \"7\",\n        },\n{\n            'v': 1,\n            'f': \"1\",\n        },\n{\n            'v': 4,\n            'f': \"4\",\n        }]],\n        columns: [[\"number\", \"index\"], [\"number\", \"code_number\"], [\"number\", \"Clump_Thickness\"], [\"number\", \"Uniformity_of_Cell_Size\"], [\"number\", \"Uniformity_of_Cell_Shape\"], [\"number\", \"Marginal_Adhesion\"], [\"number\", \"Single_Epithelial_Cell_Size\"], [\"string\", \"Bare_Nuclei\"], [\"number\", \"Bland_Chromatin\"], [\"number\", \"Normal_Nucleoli\"], [\"number\", \"Mitoses\"], [\"number\", \"Class\"]],\n        columnOptions: [{\"width\": \"1px\", \"className\": \"index_column\"}],\n        rowsPerPage: 25,\n        helpUrl: \"https://colab.research.google.com/notebooks/data_table.ipynb\",\n        suppressOutputScrolling: true,\n        minimumWidth: undefined,\n      });\n    "
          },
          "metadata": {},
          "execution_count": 2
        }
      ],
      "source": [
        "df = pd.read_csv('/content/drive/MyDrive/MP6122/dataset/breast-cancer-wisconsin.data')\n",
        "df.columns = ['code_number', 'Clump_Thickness','Uniformity_of_Cell_Size' ,'Uniformity_of_Cell_Shape', 'Marginal_Adhesion',\n",
        "              'Single_Epithelial_Cell_Size',  'Bare_Nuclei', 'Bland_Chromatin', 'Normal_Nucleoli' ,'Mitoses','Class']\n",
        "df.head()"
      ]
    },
    {
      "cell_type": "code",
      "execution_count": 3,
      "metadata": {
        "id": "kK0-o4B0dq7Y"
      },
      "outputs": [],
      "source": [
        "df = df.replace('?', np.nan)\n",
        "df.dropna(inplace=True)"
      ]
    },
    {
      "cell_type": "code",
      "execution_count": 4,
      "metadata": {
        "id": "t71CXwcfdq7Y"
      },
      "outputs": [],
      "source": [
        "df.Class = df.Class.map({2: 0, 4:1})"
      ]
    },
    {
      "cell_type": "code",
      "execution_count": 5,
      "metadata": {
        "id": "GqkJdZGhdq7Z",
        "outputId": "bfd94f1a-9de8-4406-84fb-d413d1744f64",
        "colab": {
          "base_uri": "https://localhost:8080/",
          "height": 279
        }
      },
      "outputs": [
        {
          "output_type": "execute_result",
          "data": {
            "text/plain": [
              "<matplotlib.axes._subplots.AxesSubplot at 0x7f1e391709d0>"
            ]
          },
          "metadata": {},
          "execution_count": 5
        },
        {
          "output_type": "display_data",
          "data": {
            "text/plain": [
              "<Figure size 432x288 with 1 Axes>"
            ],
            "image/png": "[encoded data removed]"
          },
          "metadata": {
            "needs_background": "light"
          }
        }
      ],
      "source": [
        "df.Class.value_counts().plot.bar()"
      ]
    },
    {
      "cell_type": "code",
      "execution_count": 6,
      "metadata": {
        "id": "TbQTEQsAdq7a"
      },
      "outputs": [],
      "source": [
        "X = df.drop(['code_number','Class'],axis=1).values\n",
        "Y = df.Class.values"
      ]
    },
    {
      "cell_type": "code",
      "execution_count": 7,
      "metadata": {
        "id": "S9meq1l2dq7b",
        "outputId": "872fe580-6b5e-4dcf-ee0f-d960a405d126",
        "colab": {
          "base_uri": "https://localhost:8080/"
        }
      },
      "outputs": [
        {
          "output_type": "execute_result",
          "data": {
            "text/plain": [
              "array([0, 1])"
            ]
          },
          "metadata": {},
          "execution_count": 7
        }
      ],
      "source": [
        "X_train, X_test, y_train, y_test = train_test_split(X, Y, test_size=0.20, random_state=42)\n",
        "df.Class.unique()"
      ]
    },
    {
      "cell_type": "markdown",
      "metadata": {
        "id": "W1PIwlk6dq7b"
      },
      "source": [
        "## Regression Data"
      ]
    },
    {
      "cell_type": "code",
      "execution_count": 8,
      "metadata": {
        "id": "zaMrdi90dq7c",
        "outputId": "d8e0ae85-0ec7-4e9a-ae6a-ff4372852626",
        "colab": {
          "base_uri": "https://localhost:8080/",
          "height": 207
        }
      },
      "outputs": [
        {
          "output_type": "execute_result",
          "data": {
            "text/plain": [
              "   code_number  Clump_Thickness  Uniformity_of_Cell_Size  \\\n",
              "0      1002945                5                        4   \n",
              "1      1015425                3                        1   \n",
              "2      1016277                6                        8   \n",
              "3      1017023                4                        1   \n",
              "4      1017122                8                       10   \n",
              "\n",
              "   Uniformity_of_Cell_Shape  Marginal_Adhesion  Single_Epithelial_Cell_Size  \\\n",
              "0                         4                  5                            7   \n",
              "1                         1                  1                            2   \n",
              "2                         8                  1                            3   \n",
              "3                         1                  3                            2   \n",
              "4                        10                  8                            7   \n",
              "\n",
              "  Bare_Nuclei  Bland_Chromatin  Normal_Nucleoli  Mitoses  Class  \n",
              "0          10                3                2        1      0  \n",
              "1           2                3                1        1      0  \n",
              "2           4                3                7        1      0  \n",
              "3           1                3                1        1      0  \n",
              "4          10                9                7        1      1  "
            ],
            "text/html": [
              "\n",
              "  <div id=\"df-46064e12-3ee5-43c0-8b11-8e46c896d1e8\">\n",
              "    <div class=\"colab-df-container\">\n",
              "      <div>\n",
              "<style scoped>\n",
              "    .dataframe tbody tr th:only-of-type {\n",
              "        vertical-align: middle;\n",
              "    }\n",
              "\n",
              "    .dataframe tbody tr th {\n",
              "        vertical-align: top;\n",
              "    }\n",
              "\n",
              "    .dataframe thead th {\n",
              "        text-align: right;\n",
              "    }\n",
              "</style>\n",
              "<table border=\"1\" class=\"dataframe\">\n",
              "  <thead>\n",
              "    <tr style=\"text-align: right;\">\n",
              "      <th></th>\n",
              "      <th>code_number</th>\n",
              "      <th>Clump_Thickness</th>\n",
              "      <th>Uniformity_of_Cell_Size</th>\n",
              "      <th>Uniformity_of_Cell_Shape</th>\n",
              "      <th>Marginal_Adhesion</th>\n",
              "      <th>Single_Epithelial_Cell_Size</th>\n",
              "      <th>Bare_Nuclei</th>\n",
              "      <th>Bland_Chromatin</th>\n",
              "      <th>Normal_Nucleoli</th>\n",
              "      <th>Mitoses</th>\n",
              "      <th>Class</th>\n",
              "    </tr>\n",
              "  </thead>\n",
              "  <tbody>\n",
              "    <tr>\n",
              "      <th>0</th>\n",
              "      <td>1002945</td>\n",
              "      <td>5</td>\n",
              "      <td>4</td>\n",
              "      <td>4</td>\n",
              "      <td>5</td>\n",
              "      <td>7</td>\n",
              "      <td>10</td>\n",
              "      <td>3</td>\n",
              "      <td>2</td>\n",
              "      <td>1</td>\n",
              "      <td>0</td>\n",
              "    </tr>\n",
              "    <tr>\n",
              "      <th>1</th>\n",
              "      <td>1015425</td>\n",
              "      <td>3</td>\n",
              "      <td>1</td>\n",
              "      <td>1</td>\n",
              "      <td>1</td>\n",
              "      <td>2</td>\n",
              "      <td>2</td>\n",
              "      <td>3</td>\n",
              "      <td>1</td>\n",
              "      <td>1</td>\n",
              "      <td>0</td>\n",
              "    </tr>\n",
              "    <tr>\n",
              "      <th>2</th>\n",
              "      <td>1016277</td>\n",
              "      <td>6</td>\n",
              "      <td>8</td>\n",
              "      <td>8</td>\n",
              "      <td>1</td>\n",
              "      <td>3</td>\n",
              "      <td>4</td>\n",
              "      <td>3</td>\n",
              "      <td>7</td>\n",
              "      <td>1</td>\n",
              "      <td>0</td>\n",
              "    </tr>\n",
              "    <tr>\n",
              "      <th>3</th>\n",
              "      <td>1017023</td>\n",
              "      <td>4</td>\n",
              "      <td>1</td>\n",
              "      <td>1</td>\n",
              "      <td>3</td>\n",
              "      <td>2</td>\n",
              "      <td>1</td>\n",
              "      <td>3</td>\n",
              "      <td>1</td>\n",
              "      <td>1</td>\n",
              "      <td>0</td>\n",
              "    </tr>\n",
              "    <tr>\n",
              "      <th>4</th>\n",
              "      <td>1017122</td>\n",
              "      <td>8</td>\n",
              "      <td>10</td>\n",
              "      <td>10</td>\n",
              "      <td>8</td>\n",
              "      <td>7</td>\n",
              "      <td>10</td>\n",
              "      <td>9</td>\n",
              "      <td>7</td>\n",
              "      <td>1</td>\n",
              "      <td>1</td>\n",
              "    </tr>\n",
              "  </tbody>\n",
              "</table>\n",
              "</div>\n",
              "      <button class=\"colab-df-convert\" onclick=\"convertToInteractive('df-46064e12-3ee5-43c0-8b11-8e46c896d1e8')\"\n",
              "              title=\"Convert this dataframe to an interactive table.\"\n",
              "              style=\"display:none;\">\n",
              "        \n",
              "  <svg xmlns=\"http://www.w3.org/2000/svg\" height=\"24px\"viewBox=\"0 0 24 24\"\n",
              "       width=\"24px\">\n",
              "    <path d=\"M0 0h24v24H0V0z\" fill=\"none\"/>\n",
              "    <path d=\"M18.56 5.44l.94 2.06.94-2.06 2.06-.94-2.06-.94-.94-2.06-.94 2.06-2.06.94zm-11 1L8.5 8.5l.94-2.06 2.06-.94-2.06-.94L8.5 2.5l-.94 2.06-2.06.94zm10 10l.94 2.06.94-2.06 2.06-.94-2.06-.94-.94-2.06-.94 2.06-2.06.94z\"/><path d=\"M17.41 7.96l-1.37-1.37c-.4-.4-.92-.59-1.43-.59-.52 0-1.04.2-1.43.59L10.3 9.45l-7.72 7.72c-.78.78-.78 2.05 0 2.83L4 21.41c.39.39.9.59 1.41.59.51 0 1.02-.2 1.41-.59l7.78-7.78 2.81-2.81c.8-.78.8-2.07 0-2.86zM5.41 20L4 18.59l7.72-7.72 1.47 1.35L5.41 20z\"/>\n",
              "  </svg>\n",
              "      </button>\n",
              "      \n",
              "  <style>\n",
              "    .colab-df-container {\n",
              "      display:flex;\n",
              "      flex-wrap:wrap;\n",
              "      gap: 12px;\n",
              "    }\n",
              "\n",
              "    .colab-df-convert {\n",
              "      background-color: #E8F0FE;\n",
              "      border: none;\n",
              "      border-radius: 50%;\n",
              "      cursor: pointer;\n",
              "      display: none;\n",
              "      fill: #1967D2;\n",
              "      height: 32px;\n",
              "      padding: 0 0 0 0;\n",
              "      width: 32px;\n",
              "    }\n",
              "\n",
              "    .colab-df-convert:hover {\n",
              "      background-color: #E2EBFA;\n",
              "      box-shadow: 0px 1px 2px rgba(60, 64, 67, 0.3), 0px 1px 3px 1px rgba(60, 64, 67, 0.15);\n",
              "      fill: #174EA6;\n",
              "    }\n",
              "\n",
              "    [theme=dark] .colab-df-convert {\n",
              "      background-color: #3B4455;\n",
              "      fill: #D2E3FC;\n",
              "    }\n",
              "\n",
              "    [theme=dark] .colab-df-convert:hover {\n",
              "      background-color: #434B5C;\n",
              "      box-shadow: 0px 1px 3px 1px rgba(0, 0, 0, 0.15);\n",
              "      filter: drop-shadow(0px 1px 2px rgba(0, 0, 0, 0.3));\n",
              "      fill: #FFFFFF;\n",
              "    }\n",
              "  </style>\n",
              "\n",
              "      <script>\n",
              "        const buttonEl =\n",
              "          document.querySelector('#df-46064e12-3ee5-43c0-8b11-8e46c896d1e8 button.colab-df-convert');\n",
              "        buttonEl.style.display =\n",
              "          google.colab.kernel.accessAllowed ? 'block' : 'none';\n",
              "\n",
              "        async function convertToInteractive(key) {\n",
              "          const element = document.querySelector('#df-46064e12-3ee5-43c0-8b11-8e46c896d1e8');\n",
              "          const dataTable =\n",
              "            await google.colab.kernel.invokeFunction('convertToInteractive',\n",
              "                                                     [key], {});\n",
              "          if (!dataTable) return;\n",
              "\n",
              "          const docLinkHtml = 'Like what you see? Visit the ' +\n",
              "            '<a target=\"_blank\" href=https://colab.research.google.com/notebooks/data_table.ipynb>data table notebook</a>'\n",
              "            + ' to learn more about interactive tables.';\n",
              "          element.innerHTML = '';\n",
              "          dataTable['output_type'] = 'display_data';\n",
              "          await google.colab.output.renderOutput(dataTable, element);\n",
              "          const docLink = document.createElement('div');\n",
              "          docLink.innerHTML = docLinkHtml;\n",
              "          element.appendChild(docLink);\n",
              "        }\n",
              "      </script>\n",
              "    </div>\n",
              "  </div>\n",
              "  "
            ],
            "application/vnd.google.colaboratory.module+javascript": "\n      import \"https://ssl.gstatic.com/colaboratory/data_table/81f25a011006ed3d/data_table.js\";\n\n      window.createDataTable({\n        data: [[{\n            'v': 0,\n            'f': \"0\",\n        },\n{\n            'v': 1002945,\n            'f': \"1002945\",\n        },\n{\n            'v': 5,\n            'f': \"5\",\n        },\n{\n            'v': 4,\n            'f': \"4\",\n        },\n{\n            'v': 4,\n            'f': \"4\",\n        },\n{\n            'v': 5,\n            'f': \"5\",\n        },\n{\n            'v': 7,\n            'f': \"7\",\n        },\n\"10\",\n{\n            'v': 3,\n            'f': \"3\",\n        },\n{\n            'v': 2,\n            'f': \"2\",\n        },\n{\n            'v': 1,\n            'f': \"1\",\n        },\n{\n            'v': 0,\n            'f': \"0\",\n        }],\n [{\n            'v': 1,\n            'f': \"1\",\n        },\n{\n            'v': 1015425,\n            'f': \"1015425\",\n        },\n{\n            'v': 3,\n            'f': \"3\",\n        },\n{\n            'v': 1,\n            'f': \"1\",\n        },\n{\n            'v': 1,\n            'f': \"1\",\n        },\n{\n            'v': 1,\n            'f': \"1\",\n        },\n{\n            'v': 2,\n            'f': \"2\",\n        },\n\"2\",\n{\n            'v': 3,\n            'f': \"3\",\n        },\n{\n            'v': 1,\n            'f': \"1\",\n        },\n{\n            'v': 1,\n            'f': \"1\",\n        },\n{\n            'v': 0,\n            'f': \"0\",\n        }],\n [{\n            'v': 2,\n            'f': \"2\",\n        },\n{\n            'v': 1016277,\n            'f': \"1016277\",\n        },\n{\n            'v': 6,\n            'f': \"6\",\n        },\n{\n            'v': 8,\n            'f': \"8\",\n        },\n{\n            'v': 8,\n            'f': \"8\",\n        },\n{\n            'v': 1,\n            'f': \"1\",\n        },\n{\n            'v': 3,\n            'f': \"3\",\n        },\n\"4\",\n{\n            'v': 3,\n            'f': \"3\",\n        },\n{\n            'v': 7,\n            'f': \"7\",\n        },\n{\n            'v': 1,\n            'f': \"1\",\n        },\n{\n            'v': 0,\n            'f': \"0\",\n        }],\n [{\n            'v': 3,\n            'f': \"3\",\n        },\n{\n            'v': 1017023,\n            'f': \"1017023\",\n        },\n{\n            'v': 4,\n            'f': \"4\",\n        },\n{\n            'v': 1,\n            'f': \"1\",\n        },\n{\n            'v': 1,\n            'f': \"1\",\n        },\n{\n            'v': 3,\n            'f': \"3\",\n        },\n{\n            'v': 2,\n            'f': \"2\",\n        },\n\"1\",\n{\n            'v': 3,\n            'f': \"3\",\n        },\n{\n            'v': 1,\n            'f': \"1\",\n        },\n{\n            'v': 1,\n            'f': \"1\",\n        },\n{\n            'v': 0,\n            'f': \"0\",\n        }],\n [{\n            'v': 4,\n            'f': \"4\",\n        },\n{\n            'v': 1017122,\n            'f': \"1017122\",\n        },\n{\n            'v': 8,\n            'f': \"8\",\n        },\n{\n            'v': 10,\n            'f': \"10\",\n        },\n{\n            'v': 10,\n            'f': \"10\",\n        },\n{\n            'v': 8,\n            'f': \"8\",\n        },\n{\n            'v': 7,\n            'f': \"7\",\n        },\n\"10\",\n{\n            'v': 9,\n            'f': \"9\",\n        },\n{\n            'v': 7,\n            'f': \"7\",\n        },\n{\n            'v': 1,\n            'f': \"1\",\n        },\n{\n            'v': 1,\n            'f': \"1\",\n        }]],\n        columns: [[\"number\", \"index\"], [\"number\", \"code_number\"], [\"number\", \"Clump_Thickness\"], [\"number\", \"Uniformity_of_Cell_Size\"], [\"number\", \"Uniformity_of_Cell_Shape\"], [\"number\", \"Marginal_Adhesion\"], [\"number\", \"Single_Epithelial_Cell_Size\"], [\"string\", \"Bare_Nuclei\"], [\"number\", \"Bland_Chromatin\"], [\"number\", \"Normal_Nucleoli\"], [\"number\", \"Mitoses\"], [\"number\", \"Class\"]],\n        columnOptions: [{\"width\": \"1px\", \"className\": \"index_column\"}],\n        rowsPerPage: 25,\n        helpUrl: \"https://colab.research.google.com/notebooks/data_table.ipynb\",\n        suppressOutputScrolling: true,\n        minimumWidth: undefined,\n      });\n    "
          },
          "metadata": {},
          "execution_count": 8
        }
      ],
      "source": [
        "column_names = ['CRIM', 'ZN', 'INDUS', 'CHAS', 'NOX', 'RM', 'AGE', 'DIS', 'RAD', 'TAX', 'PTRATIO', 'B', 'LSTAT', 'MEDV']\n",
        "data = pd.read_csv('/content/drive/MyDrive/MP6122/dataset/housing.csv', header=None, delimiter=r\"\\s+\", names=column_names)\n",
        "df.head()"
      ]
    },
    {
      "cell_type": "code",
      "execution_count": 9,
      "metadata": {
        "id": "PlM2kqrDdq7c"
      },
      "outputs": [],
      "source": [
        "column_sels = ['CRIM', 'ZN', 'INDUS', 'CHAS', 'NOX', 'RM', 'AGE', 'DIS', 'RAD', 'TAX', 'PTRATIO', 'B', 'LSTAT']\n",
        "x = data.loc[:,column_sels]\n",
        "y = data['MEDV']"
      ]
    },
    {
      "cell_type": "code",
      "execution_count": 10,
      "metadata": {
        "id": "57UDcTQudq7d"
      },
      "outputs": [],
      "source": [
        "min_max_scaler = MinMaxScaler()\n",
        "x = pd.DataFrame(data=min_max_scaler.fit_transform(x), columns=column_sels)"
      ]
    },
    {
      "cell_type": "markdown",
      "metadata": {
        "id": "QdJP1066dq7d"
      },
      "source": [
        "# Models"
      ]
    },
    {
      "cell_type": "markdown",
      "metadata": {
        "id": "uQHCi4asdq7d"
      },
      "source": [
        "## Linear Regression (Regression)\n",
        "\n",
        "### Conceptual Explanation \n",
        "\n",
        "Linear Regression is the supervised machine learning model in which the model finds the best fit linear line between the independent and dependent variable i.e it finds the linear relationship between the dependent and independent variable.\n",
        "\n",
        "<img src=\"https://drive.google.com/uc?id=11R83vkY9NU7-fVvjg8DbkM14dzNhWS1H\" width=400 height=400 />\n",
        "\n",
        "### Mathematical \n",
        "\n",
        "From basic linear algebra, we should remember that the linear regression model is a linear combination of the independent variables, that is described by the following equation: \n",
        "\n",
        "\\begin{equation}\n",
        "y = b_0 + b_1 \\cdot x\n",
        "\\end{equation}\n",
        "\n",
        "Where $b_0$ is the intercept and $b_1$ is the slope.\n",
        "\n",
        "So, the main idea of linear regression is to find the best fit line between the independent and dependent variables. This can be done by finding the value of the slope ($b_1$) and the intercept ($b_0$) in the linear equation that reduces the error between a predicted value from the model and the actual value from the data. \n",
        "\n",
        "We create a hipotetic model by using the following equation:\n",
        "\n",
        "\\begin{equation}\n",
        "h(x) = b_0 + b_1 \\cdot x\n",
        "\\end{equation}\n",
        "\n",
        "And then we calculate the error between the actual value and the predicted value by using the following cost equation of the squared error:\n",
        "\n",
        "\\begin{equation}\n",
        "J(b_0, b_1) = \\frac{1}{2m} \\sum_{1=n}^{i=1} (h(x_n) - y_n)^2\n",
        "\\end{equation}\n",
        "\n",
        "### Optimal Applications \n",
        "\n",
        "This model has the following assumptions and limitations: \n",
        "\n",
        "1. *Linearity*: The relationship between the dependent and independent variables is linear.\n",
        "2. *Homoscedasticity*: The error is homoscedastic. The variance of the error terms should be constant i.e the spread of residuals should be constant for all values of X. This assumption can be checked by plotting a residual plot. If the assumption is violated then the points will form a funnel shape otherwise they will be constant.\n",
        "3. *Independence*:  The variables should be independent of each other i.e no correlation should be there between the independent variables.\n",
        "4. *Normality*: The $x$ and $y$ variables should be normally distributed.\n",
        "\n",
        "Basically, this model will work well when the assumptions are satisfied. The violation of the assumptions leads to a decrease in the accuracy of the model therefore the predictions are not accurate and error is also high.\n",
        "\n",
        "**References**: \n",
        "\n",
        "- https://towardsdatascience.com/ensemble-models-5a62d4f4cb0chttps://www.analyticsvidhya.com/blog/2021/05/all-you-need-to-know-about-your-first-machine-learning-model-linear-regression/#:~:text=In%20the%20most%20simple%20words,the%20dependent%20and%20independent%20variable.\n",
        "- https://www.youtube.com/watch?v=1-OGRohmH2s\n",
        "- https://towardsdatascience.com/mathematics-for-machine-learning-linear-regression-least-square-regression-de09cf53757c\n",
        "- https://scikit-learn.org/stable/modules/generated/sklearn.linear_model.LinearRegression.html\n",
        "- https://scikit-learn.org/stable/auto_examples/linear_model/plot_ols.html"
      ]
    },
    {
      "cell_type": "code",
      "execution_count": 11,
      "metadata": {
        "id": "0mcPGRDDdq7e",
        "outputId": "1ded2ad8-c9b3-4315-8b96-060aa7ebc849",
        "colab": {
          "base_uri": "https://localhost:8080/"
        }
      },
      "outputs": [
        {
          "output_type": "stream",
          "name": "stdout",
          "text": [
            "0.7406426641094095\n",
            "[ -9.60975755   4.64204584   0.56083933   2.68673382  -8.63457306\n",
            "  19.88368651   0.06721501 -16.22666104   7.03913802  -6.46332721\n",
            "  -8.95582398   3.69282735 -19.01724361]\n",
            "26.620267584687767\n"
          ]
        }
      ],
      "source": [
        "# Example of Linear Regression\n",
        "from sklearn.linear_model import LinearRegression\n",
        "\n",
        "regressor = LinearRegression()\n",
        "regressor.fit(x, y)\n",
        "print(regressor.score(x, y))\n",
        "print(regressor.coef_)\n",
        "print(regressor.intercept_)\n",
        "\n"
      ]
    },
    {
      "cell_type": "markdown",
      "metadata": {
        "id": "BGXa44cgdq7f"
      },
      "source": [
        "## Logistic Regression (Classification)\n",
        "\n",
        "### Conceptual Explanation \n",
        "\n",
        "Logistic regression, despite its name, is a classification model rather than regression model. Logistic regression is a simple and more efficient method for binary and linear classification\n",
        "problems. It is a classification model, which is very easy to realize and achieves very good performance with linearly separable classes. It belongs to the group of linear classifiers and is somewhat similar to polynomial and linear regression. Logistic regression is fast and relatively uncomplicated, and it’s convenient for you to interpret the results. Although it’s essentially a method for binary classification, it can also be applied to multiclass problems.\n",
        "\n",
        "![sigmoid](https://drive.google.com/uc?id=11i8CA3Rw1NNFf5HlQ2kfVyJFZ4vBJ_U3)\n",
        "\n",
        "### Mathematical \n",
        "\n",
        "The logistic regression model is a linear combination of the independent variables, that is described by the following equation:\n",
        "\n",
        "\\begin{equation}\n",
        "f(x) = \\frac{1}{1 + e^{-m \\cdot x + b}}\n",
        "\\end{equation}\n",
        "\n",
        "That function is also called the sigmoid function. A sigmoid function is a mathematical function having a characteristic \"S\"-shaped curve or sigmoid curve. The sigmoid function has values very close to either 0 or 1 across most of its domain. This fact makes it suitable for application in classification methods.\n",
        "\n",
        "In this model, we have the linear combination of the independent variables, that is described by the following equation:\n",
        "\n",
        "\\begin{equation}\n",
        "h(x) = b_0 + b_1 \\cdot x_1 + b_2 \\cdot x_2 + ... + b_n \\cdot x_n\n",
        "\\end{equation}\n",
        "\n",
        "That función is called the *logit*. The variables $b_0, b_1, b_2, ..., b_n$ are the coefficients or preticted weights of the linear combination that comes from the $-m \\cdot x + b$ term of sigmoid function. Similar as in linear regression, the idea is to create a cost function that determines the best predicted weights $b_0, b_1, b_2, ..., b_n$  such that the function $f(x)$ is as close as possible to all actual responses $𝑦_i$ values. \n",
        "\n",
        "\\begin{equation}\n",
        "J(b_0, b_1, .., b_n) = \\sum_{1=n}^{i=1} y_n\\log(f(x_n)) + (1-y_n)\\log(1-f(x_n))\n",
        "\\end{equation}\n",
        "\n",
        "The idea of using logarithms is to simplify the cost function. By minimizing the cost function, we can find the best fit line between the independent and dependent variables. The most common way to solve the logistic regression problem is to use the gradient descent algorithm and also with the maximum likelihood estimator (MLE). The main aim of MLE is to find the value of our parameters for which the likelihood function is maximized. The likelihood function is nothing but a joint pdf of our sample observations and joint distribution is the multiplication of the conditional probability for observing each example given the distribution parameters. \n",
        "\n",
        "Gradient descent changes the value of our weights in such a way that it always converges to minimum point or we can also say that, it aims at finding the optimal weights which minimize the loss function of our model. It is an iterative method that finds the minimum of a function by figuring out the slope at a random point and then moving in the opposite direction.\n",
        "\n",
        "### Optimal Applications\n",
        "\n",
        "Logistic regresssion performs well for binary classification problems. It is also a good model for classification problems where the dependent variable is categorical. It has the advantage of being fast and easy to interpret.\n",
        "\n",
        "Lastly, the most significant advantage of logistic regression over other algoritmhs is transparency. Complex models, as neural networks, work as a black box - you never know why it makes one or another decision. There are a lot of highly regulated industries where this approach is not acceptable. Logistic regression, in contrast, may be called the “white box”. You always know why you rejected a loan application or why your patient’s diagnosis looks good or bad. That is what we’ll talk about in detail.\n",
        "\n",
        "**References**: \n",
        "\n",
        "- https://scikit-learn.org/stable/modules/generated/sklearn.linear_model.LogisticRegression.html\n",
        "- Practical Machine Learning for Data Analysis Using Python\n",
        "- Machine Learning Guide for Oil and Gas Using Python\n",
        "- https://realpython.com/logistic-regression-python/#logistic-regression-overview\n",
        "- https://en.wikipedia.org/wiki/Sigmoid_function\n",
        "- https://www.analyticsvidhya.com/blog/2021/08/conceptual-understanding-of-logistic-regression-for-data-science-beginners/#:~:text=Logistic%20Regression%20is%20another%20statistical,pass%20this%20exam%20or%20not\n",
        "- https://medium.com/analytics-vidhya/logistic-regression-b35d2801a29c\n",
        "- https://activewizards.com/blog/5-real-world-examples-of-logistic-regression-application"
      ]
    },
    {
      "cell_type": "code",
      "execution_count": 12,
      "metadata": {
        "id": "7zSOYvhedq7g",
        "outputId": "fbd7c622-85a7-4633-e232-16e29a2e2a3a",
        "colab": {
          "base_uri": "https://localhost:8080/"
        }
      },
      "outputs": [
        {
          "output_type": "stream",
          "name": "stdout",
          "text": [
            "Accuracy Score is 0.9562043795620438\n",
            "[0 1]\n",
            "[[0.37455966 0.21822076 0.50280676 0.2547255  0.02534985 0.34896106\n",
            "  0.29500212 0.23440608 0.46061253]]\n",
            "[-9.5864799]\n"
          ]
        }
      ],
      "source": [
        "# Example of Logistic Regression\n",
        "from sklearn.linear_model import LogisticRegression\n",
        "\n",
        "clf = LogisticRegression(random_state=0)\n",
        "clf.fit(X_train, y_train)\n",
        "y_hat = clf.predict(X_test)\n",
        "\n",
        "# Accuracy\n",
        "print(f'Accuracy Score is {accuracy_score(y_test, y_hat)}')\n",
        "\n",
        "print(clf.classes_)\n",
        "print(clf.coef_)\n",
        "print(clf.intercept_)"
      ]
    },
    {
      "cell_type": "markdown",
      "metadata": {
        "id": "7Ia33g54dq7h"
      },
      "source": [
        "## Support Vector Machines (Classification)\n",
        "\n",
        "### Conceptual Explanation \n",
        "\n",
        "Support Vector Machine (SVM) is a supervised machine learning algorithm that can be used for both classification or regression challenges. However,  it is mostly used in classification problems. In the SVM algorithm, we plot each data item as a point in n-dimensional space (where n is a number of features you have) with the value of each feature being the value of a particular coordinate. Then, we perform classification by finding the hyper-plane that differentiates the two classes very well, as it could be seen in the following figure.\n",
        "\n",
        "![svm](https://drive.google.com/uc?id=11U2Z1d4WNfR7gr8p6JMevcyJ1BNyPOBD)\n",
        "\n",
        "### Mathematical \n",
        "\n",
        "The main objective of SVM is to find the optimal hyperplane which linearly separates the data points in two component by maximizing the margin.\n",
        "\n",
        "A hyper-plane means plane that linearly divide the n-dimensional data points in two component. In case of 2D, hyperplane is line, in case of 3D it is plane.It is also called as n-dimensional line. That hyper-plane is defined by the following equation, for the case of 2D:\n",
        "\n",
        "\\begin{equation}\n",
        "H(x): w\\cdot x + b=0\n",
        "\\end{equation}\n",
        "\n",
        "SVM problem can be formulated as:\n",
        "\n",
        "\\begin{equation}\n",
        "\\begin{matrix}\n",
        "w \\cdot x_i + b \\geq  1 & y_i = +1 \\\\\n",
        "w \\cdot x_i + b \\leq  -1 & y_i = -1 \\\\\n",
        "\\end{matrix}\n",
        "\\end{equation}\n",
        "\n",
        "Combined with the above equation, we can rewrite the equation as:\n",
        "\n",
        "\\begin{equation}\n",
        "\\begin{matrix}\n",
        "y_i (w \\cdot x_i + b) - 1 \\geq 0 & y_i = +1, -1 \\\\\n",
        "\\end{matrix}\n",
        "\\end{equation}\n",
        "\n",
        "The distance between a point and a line can be calculated as:\n",
        "\n",
        "\\begin{equation}\n",
        "d =\\frac{\\left| a \\cdot x_0 + b \\cdot y_0 +c \\right|}{\\sqrt{a^2 + b^2}}\n",
        "\\end{equation}\n",
        "\n",
        "For a hyper-plane, the distance between a point and a line can be calculated as:\n",
        "\n",
        "\\begin{equation}\n",
        "d_H =\\frac{\\left| w(x_0) + b \\right|}{\\left|\\left| w \\right| \\right|}\n",
        "\\end{equation}\n",
        "\n",
        "Since the idea is to maximize the distance, we should minimize the euclidean distance. So, we can rewrite the equation as:\n",
        "\n",
        "\\begin{equation}\n",
        "\\left|\\left| w \\right| \\right| = \\sqrt{\\sum_{j=1}^{D} w_j^2}\n",
        "\\end{equation}\n",
        "\n",
        "Finally, the optimization criterion is:\n",
        "\n",
        "\\begin{equation}\n",
        "min \\left|\\left| w \\right| \\right| = min \\frac{1}{2} \\left|\\left| w \\right| \\right|^2 \n",
        "\\end{equation}\n",
        "\n",
        "What if data points is not linearly separable?\n",
        "\n",
        "In such cases, we do not see a straight line frontier directly in current plane which can serve as the SVM. In such cases, we need to map these vector to a higher dimension plane so that they get segregated from each other, that algorithm is called kernel SVM, which well be covered in the next sections.\n",
        "\n",
        "### Optimal Applications\n",
        "\n",
        "Some of the pros of SVM are:\n",
        "\n",
        "1. It works really well with a clear margin of separation.\n",
        "2. It is effective in high dimensional spaces.\n",
        "3. It is effective in cases where the number of dimensions is greater than the number of samples.\n",
        "4. It uses a subset of training points in the decision function (called support vectors), so it is also memory efficient.\n",
        "\n",
        "In the other hand, some of the cons of SVM are:\n",
        "\n",
        "1. It doesn’t perform well when we have large data set because the required training time is higher.\n",
        "2. It also doesn’t perform very well, when the data set has more noise i.e. target classes are overlapping.\n",
        "3. SVM doesn’t directly provide probability estimates, these are calculated using an expensive five-fold cross-validation. \n",
        "\n",
        "\n",
        "Some aplications of SVM are:\n",
        "\n",
        "1. Handwriting recognition\n",
        "2. Intrusion detection \n",
        "3. Face detection\n",
        "4. Email classification \n",
        "5. Gene classification\n",
        "\n",
        "**References**: \n",
        "\n",
        "- https://towardsdatascience.com/support-vector-machine-introduction-to-machine-learning-algorithms-934a444fca47\n",
        "- https://scikit-learn.org/stable/modules/classes.html#module-sklearn.svm\n",
        "- https://www.analyticsvidhya.com/blog/2017/09/understaing-support-vector-machine-example-code/\n",
        "- https://www.analyticsvidhya.com/blog/2014/10/support-vector-machine-simplified/?utm_source=blog&utm_medium=understandingsupportvectormachinearticle\n",
        "- https://www.analyticsvidhya.com/blog/2020/10/the-mathematics-behind-svm/#:~:text=A%20Support%20Vector%20Machine%20or,to%20as%20Support%20Vector%20Classification.\n",
        "- https://ankitnitjsr13.medium.com/math-behind-support-vector-machine-svm-5e7376d0ee4d"
      ]
    },
    {
      "cell_type": "code",
      "execution_count": 13,
      "metadata": {
        "id": "H71FmqV3dq7j",
        "outputId": "4834823d-643c-4091-adea-b2a99863045a",
        "colab": {
          "base_uri": "https://localhost:8080/"
        }
      },
      "outputs": [
        {
          "output_type": "stream",
          "name": "stdout",
          "text": [
            "Accuracy Score is 0.9635036496350365\n"
          ]
        }
      ],
      "source": [
        "# Example of SVM\n",
        "from sklearn.svm import SVC\n",
        "\n",
        "clf = SVC(kernel='linear')\n",
        "clf.fit(X_train, y_train)\n",
        "y_hat = clf.predict(X_test)\n",
        "\n",
        "# Accuracy\n",
        "print(f'Accuracy Score is {accuracy_score(y_test, y_hat)}')"
      ]
    },
    {
      "cell_type": "markdown",
      "metadata": {
        "id": "6vlx0AFCdq7l"
      },
      "source": [
        "## Linear Models for multi-class classification (Classification)\n",
        "\n",
        "### Conceptual Explanation \n",
        "\n",
        "The idea in this algoritmh is to reuse the 2-class formulation for k-classes.\n",
        "\n",
        "![multi-class](https://drive.google.com/uc?id=11o2jjqqHtnhqVCHtg7ypKatkfeFJowDO)\n",
        "\n",
        "One-vs-Rest (OvR): for each class k train a linear model (SVM or Logistic Regression) that is expert in classifying k (one) versus non-k (the rest) meaning we have to create a binary classifier for each class k, which is an expert in separating that class(k) from all the other classes.\n",
        "\n",
        "One-vs-One (OvO): : for each pair of classes $k$, $k'$), train an SVM that is expert in classifying k versus $k'$.\n",
        "\n",
        "In either case, make multiclass predictions by combining individual binary predictions.\n",
        "\n",
        "There are many more multi-class classifiers available like k-NN, naive bayes, decision trees, etc that will be discussed in the next section.\n",
        "\n",
        "### Mathematical \n",
        "\n",
        "This algoritm uses any other binary linear models (SVM or Logistic Regression) to make predictions for each class and then result is combined to make a final model.\n",
        "\n",
        "### Optimal Applications\n",
        "\n",
        "Some of the advantages of the multi-class classification are:\n",
        "\n",
        "1. Linear models are fast to train and make predictions.\n",
        "2. They scale very well for large or sparse data sets.\n",
        "3. They are easy to understand.\n",
        "\n",
        "**References**: \n",
        "\n",
        "- https://scikit-learn.org/stable/modules/classes.html#module-sklearn.multiclass\n",
        "- https://medium.com/analytics-vidhya/ml06-intro-to-multi-class-classification-e61eb7492ffd"
      ]
    },
    {
      "cell_type": "code",
      "execution_count": 14,
      "metadata": {
        "id": "sb5UuKJndq7l",
        "outputId": "4db10751-6fa9-4d3a-bd55-0f9da9d2a3cd",
        "colab": {
          "base_uri": "https://localhost:8080/"
        }
      },
      "outputs": [
        {
          "output_type": "stream",
          "name": "stdout",
          "text": [
            "Accuracy Score is 0.9635036496350365\n"
          ]
        }
      ],
      "source": [
        "# Example of Linear Models for multi-class classification\n",
        "from sklearn.svm import LinearSVC\n",
        "from sklearn.multiclass import OneVsRestClassifier\n",
        "\n",
        "clf = OneVsRestClassifier(LinearSVC(random_state=0))\n",
        "clf.fit(X_train, y_train)\n",
        "y_hat = clf.predict(X_test)\n",
        "\n",
        "# Accuracy\n",
        "print(f'Accuracy Score is {accuracy_score(y_test, y_hat)}')"
      ]
    },
    {
      "cell_type": "markdown",
      "metadata": {
        "id": "3ndVrgh1dq7m"
      },
      "source": [
        "## kNN (Classification or Regression)) \n",
        "\n",
        "### Conceptual Explanation \n",
        "\n",
        "The k-means clustering algorithm is one of the most widely used, effective, and best understood clustering methods.\n",
        "\n",
        "![knn](https://drive.google.com/uc?id=11mXbIy1CxEaD1y7tcV0UFEarJmkXJeST)\n",
        "\n",
        "### Mathematical \n",
        "\n",
        "In this case, the key is to find the k nearest neighbors of a given point. For that, we need to calculate the distance between the point and all the other points. The most common distance metrics are:\n",
        "\n",
        "1. Euclidean distance:\n",
        "\n",
        "\\begin{equation}\n",
        "d =\\sqrt{\\sum_{j=1}^{D} (x_j - y_j)^2}\n",
        "\\end{equation}\n",
        "\n",
        "2. Manhattan distance:\n",
        "\n",
        "\\begin{equation}\n",
        "d =\\sum_{j=1}^{D} |x_j - y_j|\n",
        "\\end{equation}\n",
        "\n",
        "3. Cosine distance:\n",
        "\\begin{equation}\n",
        "d =\\frac{1}{\\sqrt{\\sum_{j=1}^{D} x_j^2 \\cdot y_j^2}} \\cdot \\left( \\sum_{j=1}^{D} x_j y_j \\right)\n",
        "\\end{equation}\n",
        "\n",
        "4. Squared Euclidean distance: \n",
        "\n",
        "\\begin{equation}\n",
        "d =\\sum_{j=1}^{D} (x_j - y_j)^2\n",
        "\\end{equation}\n",
        "\n",
        "5. Chebyshev distance:\n",
        "\n",
        "\\begin{equation}\n",
        "d =\\max_{j=1}^{D} |x_j - y_j|\n",
        "\\end{equation}\n",
        "\n",
        "6. Mahalanobis distance:\n",
        "\n",
        "\\begin{equation}\n",
        "d =\\sqrt{\\sum_{j=1}^{D} (x_j - y_j)^2 \\cdot \\left( \\sum_{j=1}^{D} x_j y_j \\right)}\n",
        "\\end{equation}\n",
        "\n",
        "So basically, we create clusters of points and then find the k nearest neighbors of a given point by using any of the distances described above, and in that way we can find the class of the point.\n",
        "\n",
        "One of the most challenging tasks in this algorithm is to choose the right values of $k$. What should be the right $k$-value? How to choose the $k$-value? Let us find the answer to these questions. If you are choosing the $k$ values randomly, it might be correct or may be wrong. If you will choose the wrong value then it will directly affect your model performance. So there are two methods by which you can select the right value of $k$: \n",
        "\n",
        "1. The elbow method\n",
        "\n",
        "2. The silhouette method \n",
        "\n",
        "### Optimal Applications\n",
        "\n",
        "The pros of k-NN are:\n",
        "\n",
        "1. It is very simple to implement.\n",
        "2. It is scalable to a huge data set and also faster to large datasets.\n",
        "3. It adapts the new examples very frequently.\n",
        "4. Generalization of clusters for different shapes and sizes.\n",
        "\n",
        "This cons of k-NN are:\n",
        "\n",
        "1. It is sensitive to the outliers.\n",
        "2. Choosing the k values manually is a tough job.\n",
        "3. As the number of dimensions increases its scalability decreases.\n",
        "\n",
        "Some of the applications of k-NN are:\n",
        "\n",
        "1. It is used for classification.\n",
        "2. It is used for regression.\n",
        "3. It is used for clustering.\n",
        "4. It is used for dimensionality reduction.\n",
        "\n",
        "**References**: \n",
        "\n",
        "- https://scikit-learn.org/stable/modules/generated/sklearn.neighbors.KNeighborsClassifier.html\n",
        "- https://scikit-learn.org/stable/modules/generated/sklearn.neighbors.KNeighborsRegressor.html\n",
        "- https://towardsdatascience.com/understanding-k-means-clustering-in-machine-learning-6a6e67336aa1\n",
        "- https://www.analyticsvidhya.com/blog/2020/10/a-simple-explanation-of-k-means-clustering/\n",
        "- https://www.simplilearn.com/tutorials/machine-learning-tutorial/k-means-clustering-algorithm\n",
        "- https://www.cs.cornell.edu/~tomf/publications/supervised_kmeans-08.pdf"
      ]
    },
    {
      "cell_type": "code",
      "execution_count": 15,
      "metadata": {
        "id": "-iMpWlLkdq7m",
        "outputId": "f6382c51-b9d5-4d98-a138-5ebb174aafdb",
        "colab": {
          "base_uri": "https://localhost:8080/"
        }
      },
      "outputs": [
        {
          "output_type": "stream",
          "name": "stdout",
          "text": [
            "Accuracy Score is 0.9562043795620438\n"
          ]
        }
      ],
      "source": [
        "# Example of KNN Classifier\n",
        "from sklearn.neighbors import KNeighborsClassifier\n",
        "\n",
        "clf = KNeighborsClassifier(n_neighbors=3)\n",
        "clf.fit(X_train, y_train)\n",
        "y_hat = clf.predict(X_test)\n",
        "\n",
        "# Accuracy\n",
        "print(f'Accuracy Score is {accuracy_score(y_test, y_hat)}')"
      ]
    },
    {
      "cell_type": "code",
      "execution_count": 16,
      "metadata": {
        "id": "Sizci51Sdq7n",
        "outputId": "bcf322fc-ba94-4505-b16e-355f69cf0167",
        "colab": {
          "base_uri": "https://localhost:8080/"
        }
      },
      "outputs": [
        {
          "output_type": "stream",
          "name": "stdout",
          "text": [
            "0.850617542134604\n"
          ]
        }
      ],
      "source": [
        "# Example of kNN Regression\n",
        "from sklearn.neighbors import KNeighborsRegressor\n",
        "\n",
        "regressor = KNeighborsRegressor()\n",
        "regressor.fit(x, y)\n",
        "print(regressor.score(x, y))\n"
      ]
    },
    {
      "cell_type": "markdown",
      "metadata": {
        "id": "VDtAhNAxdq7n"
      },
      "source": [
        "## Naive Bayes (Classification)\n",
        "\n",
        "### Conceptual Explanation \n",
        "\n",
        "It is a classification technique based on Bayes' Theorem with an assumption of independence among predictors. In simple terms, a Naive Bayes classifier assumes that the presence of a particular feature in a class is unrelated to the presence of any other feature.\n",
        "\n",
        "![naive](https://drive.google.com/uc?id=11xgMrqGRk3NIiIki7Mjj1Dg7nS7E3D05)\n",
        "\n",
        "### Mathematical \n",
        "\n",
        "The Bayes' Theorem states that the probability of an event occurring is a function of the probability of that event and the probability of that event occurring given the evidence that led to its occurrence, that is discribed by the following formula:\n",
        "\n",
        "\\begin{equation}\n",
        "P(C|x) = \\frac{P(x|C)P(C)}{P(x)}\n",
        "\\end{equation}\n",
        "\n",
        "Where:\n",
        "\n",
        "- $P(C|x)$ is the probability of the class $C$ given the evidence $x$.\n",
        "- $P(x|C)$ is the probability of the evidence $x$ given the class $C$.\n",
        "- $P(C)$ is the probability of the class $C$.\n",
        "- $P(x)$ is the probability of the evidence $x$.\n",
        "\n",
        "Using the chain rule, the likelihood P(X∣Ck) can be decomposed as:\n",
        "\n",
        "\\begin{equation}\n",
        "P(x|Ck) = P(x_1, x_2, ..., x_n|Ck)P(Ck) = P(x_1|x_2, ..., x_n, C_k)P(x_2|x_1, ..., x_n, C_k)...P(x_n|x_1, ..., x_n-1, C_k)P(Ck)\n",
        "\\end{equation}\n",
        "\n",
        "The above sets of probabilities can be hard and expensive to calculate. Fortunately, with the naive conditional independence assumption, this probability can be also expressed as:\n",
        "\n",
        "\\begin{equation}\n",
        "P(C|x) = \\frac{P(C_k) \\prod_{i=1}^{n}P(x_i|C_i)}{P(x)}\n",
        "\\end{equation}\n",
        "\n",
        "So the problem of Naive Bayes is for different class values of $C_k$, find the maximum of $P(C_k) \\prod_{i=1}^{n}P(x_i|C_i)$.\n",
        "\n",
        "There are three types of Naive Bayes classifiers:\n",
        "\n",
        "1. Gaussian Naive Bayes\n",
        "2. Bernoulli Naive Bayes\n",
        "3. Multinomial Naive Bayes\n",
        "\n",
        "The different Naive Bayes classifiers differ mainly by the assumptions they make regarding the distribution of $P(x_i|C_i)$.\n",
        "\n",
        "### Optimal Applications\n",
        "\n",
        "The main advantages of Naive Bayes are: \n",
        "\n",
        "1. It is easy and fast to predict class of test data set. It also perform well in multi class prediction.\n",
        "2. When assumption of independence holds, a Naive Bayes classifier performs better compare to other models like logistic regression and you need less training data.\n",
        "3. It perform well in case of categorical input variables compared to numerical variable(s). For numerical variable, normal distribution is assumed (bell curve, which is a strong assumption).\n",
        "\n",
        "And the main cons of Naive Bayes are:\n",
        "\n",
        "1. It perform well in case of categorical input variables compared to numerical variable(s). For numerical variable, normal distribution is assumed (bell curve, which is a strong assumption).\n",
        "2. On the other side naive Bayes is also known as a bad estimator.\n",
        "3. Another limitation of Naive Bayes is the assumption of independent predictors. In real life, it is almost impossible that we get a set of predictors which are completely independent.\n",
        "\n",
        "Some of the applications of Naive Bayes are:\n",
        "\n",
        "1. Real time Prediction\n",
        "2. Recommendation System\n",
        "3. Sentiment Analysis\n",
        "4. Text Classification\n",
        "5. Image Classification\n",
        "6. Fraud Detection\n",
        "\n",
        "**References**: \n",
        "\n",
        "- https://scikit-learn.org/stable/modules/generated/sklearn.naive_bayes.MultinomialNB.html \n",
        "- https://medium.com/analytics-vidhya/na%C3%AFve-bayes-algorithm-5bf31e9032a2#:~:text=Naive%20Bayes%20is%20a%20classification,one%20with%20the%20highest%20probability.\n",
        "- https://www.analyticsvidhya.com/blog/2017/09/naive-bayes-explained/\n",
        "- https://shuzhanfan.github.io/2018/06/understanding-mathematics-behind-naive-bayes/\n"
      ]
    },
    {
      "cell_type": "code",
      "execution_count": 17,
      "metadata": {
        "colab": {
          "base_uri": "https://localhost:8080/"
        },
        "id": "47dfFH7udq7n",
        "outputId": "1f49349c-83e4-4e9c-bd50-491311466536"
      },
      "outputs": [
        {
          "output_type": "stream",
          "name": "stdout",
          "text": [
            "Accuracy Score is 0.8978102189781022\n"
          ]
        }
      ],
      "source": [
        "# Example of Naive Bayes\n",
        "from sklearn.naive_bayes import MultinomialNB\n",
        "\n",
        "clf = MultinomialNB(alpha=1.0)\n",
        "clf.fit(X_train, y_train)\n",
        "y_hat = clf.predict(X_test)\n",
        "\n",
        "# Accuracy\n",
        "print(f'Accuracy Score is {accuracy_score(y_test, y_hat)}')"
      ]
    },
    {
      "cell_type": "markdown",
      "metadata": {
        "id": "pbCTMfYWdq7o"
      },
      "source": [
        "## Decision Trees (Classification or Regression)) \n",
        "\n",
        "### Conceptual Explanation \n",
        "\n",
        "A decision tree is a tree-based model for classification and regression. It is a supervised learning algorithm that is used to make predictions by recursively splitting data instances into smaller and smaller groups, each of which is also a decision tree itself. Decision trees imitate human thinking, so it’s generally easy for data scientists to understand and interpret the results.\n",
        "\n",
        "![decision-tree](https://drive.google.com/uc?id=11lITuCVXSwR5TsSU1UJk1hwuk5L7NW2L)\n",
        "\n",
        "Let’s define some key terms of a decision tree.\n",
        "\n",
        "- Root node: The base of the decision tree.\n",
        "- Splitting: The process of dividing a node into multiple sub-nodes.\n",
        "- Decision node: When a sub-node is further split into additional sub-nodes.\n",
        "- Leaf node: When a sub-node does not further split into additional sub-nodes; represents possible outcomes.\n",
        "- Pruning: The process of removing sub-nodes of a decision tree.\n",
        "- Branch: A subsection of the decision tree consisting of multiple nodes.\n",
        "\n",
        "### Mathematical \n",
        "\n",
        "A decision tree resembles, well, a tree. The base of the tree is the root node. From the root node flows a series of decision nodes that depict decisions to be made. From the decision nodes are leaf nodes that represent the consequences of those decisions. Each decision node represents a question or split point, and the leaf nodes that stem from a decision node represent the possible answers. Leaf nodes sprout from decision nodes similar to how a leaf sprouts on a tree branch. This is why we call each subsection of a decision tree a \"branch\".\n",
        "\n",
        "How does a tree based algorithms decide where to split?\n",
        "\n",
        "The decision of making strategic splits heavily affects a tree’s accuracy. The decision criteria is different for classification and regression trees. If the dataset consists of N attributes then deciding which attribute to place at the root or at different levels of the tree as internal nodes is a complicated step. By just randomly selecting any node to be the root can’t solve the issue. If we follow a random approach, it may give us bad results with low accuracy.\n",
        "\n",
        "For solving this attribute selection problem, researchers worked and devised some solutions. They suggested using some criteria like:\n",
        "\n",
        "1. Information Gain\n",
        "\n",
        "\\begin{equation}\n",
        "\\text{Information Gain} = \\text{Entropy}(D) - \\sum_{i=1}^{N}P(i) \\times \\text{Entropy}(D|i)\n",
        "\\end{equation}\n",
        "\n",
        "2. Gini Index:\n",
        "\n",
        "\\begin{equation}\n",
        "Gini(x) = 1 - \\sum_{i=1}^{N}P(x_i)^2\n",
        "\\end{equation}\n",
        "\n",
        "3. Variance Impurity\n",
        "\n",
        "\\begin{equation}\n",
        "\\text{Variance Impurity} = \\sum_{i=1}^{N}P(x_i) \\times \\sum_{i=1}^{N}P(x_i)\n",
        "\\end{equation}\n",
        "\n",
        "4. Entropy\n",
        "\n",
        "\\begin{equation}\n",
        "\\text{Entropy} = - \\sum_{i=1}^{N}P(x_i) \\times \\log(P(x_i))\n",
        "\\end{equation}\n",
        "\n",
        "5. Chi-Square\n",
        "\n",
        "\\begin{equation}\n",
        "\\text{Chi-Square} = \\sum_{i=1}^{N}P(x_i) \\times \\sum_{i=1}^{N}P(x_i)\n",
        "\\end{equation}\n",
        "\n",
        "7. Gain Ratio\n",
        "\n",
        "\\begin{equation}\n",
        "\\text{Gain Ratio} = \\text{Information Gain} / \\text{Variance Impurity}\n",
        "\\end{equation}\n",
        "\n",
        "We should also consider that decision trees are more likely to overfit the data if the number of attributes is large. Overfitting is one of the key challenges faced while using tree based algorithms. If there is no limit set of a decision tree, it will give you 100% accuracy on training set because in the worse case it will end up making 1 leaf for each observation. Thus, preventing overfitting is pivotal while modeling a decision tree and it can be done in 2 ways:\n",
        "\n",
        "1. Pruning\n",
        "2. Setting a maximum depth of the tree\n",
        "\n",
        "### Optimal Applications\n",
        "\n",
        "The pros of decision trees are:\n",
        "\n",
        "1. Works for numerical or categorical data and variables.\n",
        "2. Models problems with multiple outputs.\n",
        "3. Tests the reliability of the tree.\n",
        "4. Requires less data cleaning than other data modeling techniques.\n",
        "5. Easy to explain to those without an analytical background.\n",
        "\n",
        "In the other hand, the cons of decision trees are:\n",
        "\n",
        "1. Affected by noise in the data.\n",
        "2. Not ideal for large datasets.\n",
        "3. Can disproportionately value, or weigh, attributes.\n",
        "4. The decisions at nodes are limited to binary outcomes, reducing the complexity that the tree can handle.\n",
        "5. Trees can become very complex when dealing with uncertainty and numerous linked outcomes.\n",
        "\n",
        "The main applications of decision trees are:\n",
        "\n",
        "1. Classification\n",
        "2. Regression\n",
        "3. Recommendation System\n",
        "4. Sentiment Analysis\n",
        "\n",
        "**References**: \n",
        "\n",
        "- https://www.analyticsvidhya.com/blog/2016/04/tree-based-algorithms-complete-tutorial-scratch-in-python/\n",
        "- https://towardsdatascience.com/light-on-math-machine-learning-intuitive-guide-to-understanding-decision-trees-adb2165ccab7\n",
        "- https://www.datacamp.com/community/tutorials/decision-tree-classification-python\n",
        "- https://scikit-learn.org/stable/modules/generated/sklearn.tree.DecisionTreeRegressor.html\n",
        "- https://scikit-learn.org/stable/modules/generated/sklearn.tree.DecisionTreeClassifier.html\n",
        "- https://www.mastersindatascience.org/learning/introduction-to-machine-learning-algorithms/decision-tree/#:~:text=A%20decision%20tree%20is%20a,that%20contains%20the%20desired%20categorization."
      ]
    },
    {
      "cell_type": "code",
      "execution_count": 18,
      "metadata": {
        "id": "2LLzunB5dq7o",
        "outputId": "c140c558-82cd-44d9-c0b5-ec420a60eb54",
        "colab": {
          "base_uri": "https://localhost:8080/"
        }
      },
      "outputs": [
        {
          "output_type": "stream",
          "name": "stdout",
          "text": [
            "Accuracy Score is 0.9416058394160584\n"
          ]
        }
      ],
      "source": [
        "# Example of Decision Trees Classifier\n",
        "from sklearn.tree import DecisionTreeClassifier\n",
        "\n",
        "clf = DecisionTreeClassifier(max_depth=2, random_state=0)\n",
        "clf.fit(X_train, y_train)\n",
        "y_hat = clf.predict(X_test)\n",
        "\n",
        "# Accuracy\n",
        "print(f'Accuracy Score is {accuracy_score(y_test, y_hat)}')"
      ]
    },
    {
      "cell_type": "code",
      "execution_count": 19,
      "metadata": {
        "id": "pKiBTsF_dq7p",
        "outputId": "15f895c1-168c-4cd5-be9c-94fa0a0648c9",
        "colab": {
          "base_uri": "https://localhost:8080/"
        }
      },
      "outputs": [
        {
          "output_type": "stream",
          "name": "stdout",
          "text": [
            "1.0\n",
            "[0.03998948 0.00060121 0.00409867 0.00084715 0.05046496 0.57598062\n",
            " 0.0115331  0.07344814 0.00071385 0.01265229 0.02041985 0.00596534\n",
            " 0.20328533]\n"
          ]
        }
      ],
      "source": [
        "# Example of Decision Trees Regression\n",
        "from sklearn.tree import DecisionTreeRegressor\n",
        "\n",
        "regressor = DecisionTreeRegressor(random_state=0)\n",
        "regressor.fit(x, y)\n",
        "print(regressor.score(x, y))\n",
        "\n",
        "print(regressor.feature_importances_)\n"
      ]
    },
    {
      "cell_type": "markdown",
      "metadata": {
        "id": "gGbGmf1Mdq7p"
      },
      "source": [
        "## Random Forests (Classification or Regression)\n",
        "\n",
        "### Conceptual Explanation \n",
        "\n",
        "A random forest is an ensemble learning method for classification, regression and other tasks, that operate by constructing a multitude of decision trees at training time and outputting the class that is the mode of the classes (classification) or mean prediction (regression) of the individual trees.\n",
        "\n",
        "![random-forest](https://drive.google.com/uc?id=121o-uPPJl8OXotKBkr_ya75D45C1fSRf)\n",
        "\n",
        "### Mathematical \n",
        "\n",
        "It works in the following manner:\n",
        "\n",
        "1. A random subset of the training data is chosen as the initial set of samples.\n",
        "2. The subset is then split into a number of subsets, each of which is then used to train a decision tree.\n",
        "3. The resulting decision trees are then combined to form a forest. \n",
        "4. The final output is the mode of the classes (classification) or mean prediction (regression) of the individual trees.\n",
        "\n",
        "### Optimal Applications\n",
        "\n",
        "The pros of ramdom forests are:\n",
        "\n",
        "1. This algorithm can solve both type of problems i.e. classification and regression and does a decent estimation at both fronts.\n",
        "2. One of benefits of Random forest which excites me most is, the power of handle large data set with higher dimensionality. It can handle thousands of input variables and identify most significant variables so it is considered as one of the dimensionality reduction methods. Further, the model outputs Importance of variable, which can be a very handy feature (on some random data set).\n",
        "3. It has an effective method for estimating missing data and maintains accuracy when a large proportion of the data are missing.\n",
        "4. It has methods for balancing errors in data sets where classes are imbalanced.\n",
        "5. The capabilities of the above can be extended to unlabeled data, leading to unsupervised clustering, data views and outlier detection.\n",
        "6. Random Forest involves sampling of the input data with replacement called as bootstrap sampling. Here one third of the data is not used for training and can be used to testing. These are called the out of bag samples. Error estimated on these out of bag samples is known as out of bag error. Study of error estimates by Out of bag, gives evidence to show that the out-of-bag estimate is as accurate as using a test set of the same size as the training set. Therefore, using the out-of-bag error estimate removes the need for a set aside test set.\n",
        " \n",
        "In the other hand, the cons of random forest are:\n",
        "\n",
        "1. It surely does a good job at classification but not as good as for regression problem as it does not give precise continuous nature predictions. In case of regression, it doesn’t predict beyond the range in the training data, and that they may over-fit data sets that are particularly noisy.\n",
        "2. Random Forest can feel like a black box approach for statistical modelers – you have very little control on what the model does.\n",
        "\n",
        "**References**: \n",
        "\n",
        "- https://www.analyticsvidhya.com/blog/2016/04/tree-based-algorithms-complete-tutorial-scratch-in-python/\n",
        "- https://www.analyticsvidhya.com/blog/2014/06/introduction-random-forest-simplified/\n",
        "- https://scikit-learn.org/stable/modules/generated/sklearn.ensemble.RandomForestClassifier.html\n",
        "- https://scikit-learn.org/stable/modules/generated/sklearn.ensemble.RandomForestRegressor.html"
      ]
    },
    {
      "cell_type": "code",
      "execution_count": 20,
      "metadata": {
        "id": "R5PA3aO0dq7p",
        "outputId": "1aaf3111-adf1-4299-82d6-7de91a9362cb",
        "colab": {
          "base_uri": "https://localhost:8080/"
        }
      },
      "outputs": [
        {
          "output_type": "stream",
          "name": "stdout",
          "text": [
            "Accuracy Score is 0.9562043795620438\n"
          ]
        }
      ],
      "source": [
        "# Example of Random Forest Classifier\n",
        "from sklearn.ensemble import RandomForestClassifier\n",
        "\n",
        "clf = RandomForestClassifier(max_depth=2, random_state=0)\n",
        "clf.fit(X_train, y_train)\n",
        "y_hat = clf.predict(X_test)\n",
        "\n",
        "# Accuracy\n",
        "print(f'Accuracy Score is {accuracy_score(y_test, y_hat)}')"
      ]
    },
    {
      "cell_type": "code",
      "execution_count": 21,
      "metadata": {
        "id": "T2InVypjdq7q",
        "outputId": "4ecf060f-44d3-4b09-e02e-e1e419507f74",
        "colab": {
          "base_uri": "https://localhost:8080/"
        }
      },
      "outputs": [
        {
          "output_type": "stream",
          "name": "stdout",
          "text": [
            "0.763042092638991\n"
          ]
        }
      ],
      "source": [
        "# Example of Random Forest Regression\n",
        "from sklearn.ensemble import RandomForestRegressor\n",
        "\n",
        "regressor = RandomForestRegressor(max_depth=2, random_state=0)\n",
        "regressor.fit(x, y)\n",
        "print(regressor.score(x, y))"
      ]
    },
    {
      "cell_type": "markdown",
      "metadata": {
        "id": "JJBrCZ4Sdq7q"
      },
      "source": [
        "## Kernel Support Vector Machines (Classification)\n",
        "\n",
        "### Conceptual Explanation \n",
        "\n",
        "SVM algorithms use a set of mathematical functions that are defined as the kernel. The function of kernel is to take data as input and transform it into the required form. Different SVM algorithms use different types of kernel functions. \n",
        "\n",
        "![kernel](https://drive.google.com/uc?id=11z-qJvrqnyuNqSvin46VaC0H1eZFaud2)\n",
        "\n",
        "Using kernel functions is very useful in classification problems when the data is not linearly separable.\n",
        "\n",
        "### Mathematical \n",
        "\n",
        "Basically, the main idea is first to find the hyperplane that separates the data. Then, the kernel function is used to transform the data into the required form. Some of the kernel functions are:\n",
        "\n",
        "1. Polynomial Kernel: \n",
        "\\begin{equation}\n",
        "K(x,y) = \\alpha \\cdot x^T \\cdot y + \\beta \\cdot x^T \\cdot x + \\gamma \\cdot y^T \\cdot y\n",
        "\\end{equation}\n",
        "\n",
        "2. Gaussian Kernel: \n",
        "\\begin{equation}\n",
        "K(x,y) = \\exp \\left( - \\frac{||x-y||}{\\sigma} \\right)\n",
        "\\end{equation}\n",
        "\n",
        "3. Sigmoid kernel \n",
        "\\begin{equation}\n",
        "K(x,y) = \\frac{1}{1 + e^{-\\gamma \\cdot \\sum_{i=1}^{N}(x_i - y_i)}}\n",
        "\\end{equation}\n",
        "\n",
        "4. Laplace Kernel\n",
        "\n",
        "\\begin{equation}\n",
        "K(x,y) = \\frac{1}{\\sqrt{2\\pi}\\sigma} \\exp\\left(-\\frac{1}{2\\sigma^2} \\left(x-y\\right)^2\\right)\n",
        "\\end{equation}\n",
        "\n",
        "5. Bessel Function Kernel\n",
        "\n",
        "\\begin{equation}\n",
        "K(x,y) = \\frac{1}{\\pi\\sigma^2} \\exp\\left(-\\frac{1}{2\\sigma^2} \\left(x-y\\right)^2\\right)\n",
        "\\end{equation}\n",
        "\n",
        "Once the kernel function is found, the SVM algorithm is applied.\n",
        "\n",
        "### Optimal Applications\n",
        "\n",
        "Similar pros and cons of SVM. \n",
        "\n",
        "Some of the pros of SVM are:\n",
        "\n",
        "1. It works really well with a clear margin of separation.\n",
        "2. It is effective in high dimensional spaces.\n",
        "3. It is effective in cases where the number of dimensions is greater than the number of samples.\n",
        "4. It uses a subset of training points in the decision function (called support vectors), so it is also memory efficient.\n",
        "\n",
        "In the other hand, some of the cons of SVM are:\n",
        "\n",
        "1. It doesn’t perform well when we have large data set because the required training time is higher.\n",
        "2. It also doesn’t perform very well, when the data set has more noise i.e. target classes are overlapping.\n",
        "3. SVM doesn’t directly provide probability estimates, these are calculated using an expensive five-fold cross-validation. \n",
        "\n",
        "**References**: \n",
        "\n",
        "- https://dataaspirant.com/svm-kernels/\n",
        "- https://data-flair.training/blogs/svm-kernel-functions/"
      ]
    },
    {
      "cell_type": "code",
      "execution_count": 22,
      "metadata": {
        "id": "x6LsJzpMdq7q",
        "outputId": "a38dc690-5978-4033-a773-12bb58d7ebee",
        "colab": {
          "base_uri": "https://localhost:8080/"
        }
      },
      "outputs": [
        {
          "output_type": "stream",
          "name": "stdout",
          "text": [
            "Accuracy Score is 0.9635036496350365\n"
          ]
        }
      ],
      "source": [
        "# Example of kernel SVM\n",
        "from sklearn.svm import SVC\n",
        "\n",
        "clf = SVC(kernel='rbf', C=10, gamma=0.1)\n",
        "clf.fit(X_train, y_train)\n",
        "y_hat = clf.predict(X_test)\n",
        "\n",
        "# Accuracy\n",
        "print(f'Accuracy Score is {accuracy_score(y_test, y_hat)}')"
      ]
    },
    {
      "cell_type": "markdown",
      "metadata": {
        "id": "EPTRmSIqdq7r"
      },
      "source": [
        "# Ensemble Methods\n",
        "\n",
        "The goal of ensemble methods is to combine the predictions of several base estimators built with a given learning algorithm in order to improve generalizability / robustness over a single estimator. \n",
        "\n",
        "![ensemble](https://drive.google.com/uc?id=12-uRKenoVsmQKHFYwRj9Vql61zGws9vk)\n",
        "\n",
        "**References**: \n",
        "\n",
        "- https://towardsdatascience.com/ensemble-models-5a62d4f4cb0c\n",
        "- https://www.analyticsvidhya.com/blog/2018/06/comprehensive-guide-for-ensemble-models/\n",
        "- https://www.geeksforgeeks.org/ensemble-methods-in-python/"
      ]
    },
    {
      "cell_type": "markdown",
      "metadata": {
        "id": "voZVsSvvdq7r"
      },
      "source": [
        "# Simple Ensemble Methods\n",
        "\n",
        "## Voting\n",
        "\n",
        "### Conceptual Explanation \n",
        "\n",
        "It is mainly used for classification problems. The method consists of building multiple models independently and getting their individual output called ‘vote’. The class with maximum votes is returned as output.\n",
        "\n",
        "**References**: \n",
        "\n",
        "- https://www.geeksforgeeks.org/ensemble-methods-in-python/\n",
        "- https://machinelearningmastery.com/ensemble-machine-learning-algorithms-python-scikit-learn/\n",
        "- https://scikit-learn.org/stable/modules/generated/sklearn.ensemble.VotingClassifier.html\n",
        "- https://scikit-learn.org/stable/modules/generated/sklearn.ensemble.VotingRegressor.html"
      ]
    },
    {
      "cell_type": "code",
      "execution_count": 23,
      "metadata": {
        "id": "C_gRGpQ5dq7r",
        "colab": {
          "base_uri": "https://localhost:8080/"
        },
        "outputId": "7edac35b-6c23-4dbf-eb67-471be3e7c672"
      },
      "outputs": [
        {
          "output_type": "stream",
          "name": "stdout",
          "text": [
            "Accuracy Score is 0.9635036496350365\n",
            "[LogisticRegression(), KNeighborsClassifier(), DecisionTreeClassifier()]\n",
            "{'lr': LogisticRegression(), 'knn': KNeighborsClassifier(), 'dt': DecisionTreeClassifier()}\n",
            "LabelEncoder()\n",
            "hard\n"
          ]
        }
      ],
      "source": [
        "# Example of voting\n",
        "\n",
        "from sklearn.ensemble import VotingClassifier\n",
        "from sklearn.neighbors import KNeighborsClassifier\n",
        "from sklearn.linear_model import LogisticRegression\n",
        "from sklearn.tree import DecisionTreeClassifier\n",
        "\n",
        "# Initializing all the model objects with default parameters\n",
        "model_1 = LogisticRegression()\n",
        "model_2 = KNeighborsClassifier()\n",
        "model_3 = DecisionTreeClassifier()\n",
        "\n",
        "# Making the final model using voting classifier\n",
        "final_model = VotingClassifier(estimators=[('lr', model_1), ('knn', model_2), ('dt', model_3)], voting='hard')\n",
        " \n",
        "# Predicting the output on the test dataset\n",
        "final_model.fit(X_train, y_train)\n",
        "\n",
        "y_hat = clf.predict(X_test)\n",
        "\n",
        "# Accuracy\n",
        "print(f'Accuracy Score is {accuracy_score(y_test, y_hat)}')\n",
        "\n",
        "# Model Attributes\n",
        "print(final_model.estimators_)\n",
        "print(final_model.named_estimators)\n",
        "print(final_model.le_)\n",
        "print(final_model.voting)\n"
      ]
    },
    {
      "cell_type": "markdown",
      "metadata": {
        "id": "2GxByrZHdq7r"
      },
      "source": [
        "## Averaging\n",
        "\n",
        "### Conceptual Explanation \n",
        "\n",
        "It is mainly used for regression problems. The method consists of building multiple models independently and returning the average of the prediction of all the models. In general, the combined output is better than an individual output because variance is reduced.\n",
        "\n",
        "\n",
        "**References**: \n",
        "\n",
        "- https://www.geeksforgeeks.org/ensemble-methods-in-python/\n",
        "- https://machinelearningmastery.com/ensemble-machine-learning-algorithms-python-scikit-learn/"
      ]
    },
    {
      "cell_type": "code",
      "execution_count": 24,
      "metadata": {
        "id": "cVmfnmTxdq7r",
        "colab": {
          "base_uri": "https://localhost:8080/"
        },
        "outputId": "295933bb-fad3-4582-e9f1-5ff11e80714f"
      },
      "outputs": [
        {
          "output_type": "stream",
          "name": "stdout",
          "text": [
            "22.88822585335909\n",
            "18.506015686274512\n",
            "12.441143303921564\n",
            "14.35600116093697\n"
          ]
        }
      ],
      "source": [
        "# Example of averaging\n",
        "\n",
        "from sklearn.metrics import mean_squared_error\n",
        "from sklearn.neighbors import KNeighborsRegressor\n",
        "from sklearn.linear_model import LinearRegression\n",
        "from sklearn.ensemble import RandomForestRegressor\n",
        "from sklearn.model_selection import train_test_split\n",
        "\n",
        "# Splitting between train data into training and validation dataset\n",
        "AV_train, AV_test, av_train, av_test = train_test_split(x, y, test_size=0.20)\n",
        "\n",
        "# Initializing all the model objects with default parameters\n",
        "model_1 = LinearRegression()\n",
        "model_2 = KNeighborsRegressor()\n",
        "model_3 = RandomForestRegressor()\n",
        " \n",
        "# Training all the model on the training dataset\n",
        "model_1.fit(AV_train, av_train)\n",
        "model_2.fit(AV_train, av_train)\n",
        "model_3.fit(AV_train, av_train)\n",
        "\n",
        "# Predicting the output on the validation dataset\n",
        "pred_1 = model_1.predict(AV_test)\n",
        "pred_2 = model_2.predict(AV_test)\n",
        "pred_3 = model_3.predict(AV_test)\n",
        "\n",
        "# Final prediction after averaging on the prediction of all 3 models\n",
        "pred_final = (pred_1+pred_2+pred_3)/3.0\n",
        "\n",
        "# Printing the root mean squared error between real value and predicted value\n",
        "print(mean_squared_error(av_test, pred_1))\n",
        "print(mean_squared_error(av_test, pred_2))\n",
        "print(mean_squared_error(av_test, pred_3))\n",
        "print(mean_squared_error(av_test, pred_final))"
      ]
    },
    {
      "cell_type": "markdown",
      "metadata": {
        "id": "XPxkwRGcdq7s"
      },
      "source": [
        "## Weighted Average\n",
        "\n",
        "### Conceptual Explanation \n",
        "\n",
        "Weighted average or weighted sum ensemble is an ensemble machine learning approach that combines the predictions from multiple models, where the contribution of each model is weighted proportionally to its capability or skill.\n",
        "\n",
        "The weighted average ensemble is related to the voting ensemble.\n",
        "\n",
        "Voting ensembles are composed of multiple machine learning models where the predictions from each model are averaged directly. A limitation of the voting ensemble technique is that it assumes that all models in the ensemble are equally effective. This may not be the case as some models may be better than others, especially if different machine learning algorithms are used to train each model ensemble member.\n",
        "\n",
        "An alternative to voting is to assume that ensemble members are not all equally capable and instead some models are better than others and should be given more votes or more of a seat when making a prediction. This provides the motivation for the weighted sum or weighted average ensemble method.\n",
        "\n",
        "**References**: \n",
        "\n",
        "- https://machinelearningmastery.com/weighted-average-ensemble-with-python/\n",
        "- https://scikit-learn.org/stable/modules/generated/sklearn.ensemble.VotingClassifier.html\n",
        "- https://scikit-learn.org/stable/modules/generated/sklearn.ensemble.VotingRegressor.html"
      ]
    },
    {
      "cell_type": "code",
      "execution_count": 25,
      "metadata": {
        "id": "GKYl1Wt0dq7s",
        "colab": {
          "base_uri": "https://localhost:8080/"
        },
        "outputId": "efe27865-0839-452c-bcbd-df86b3f7718a"
      },
      "outputs": [
        {
          "output_type": "stream",
          "name": "stdout",
          "text": [
            "Accuracy Score is 0.9635036496350365\n",
            "[LogisticRegression(), KNeighborsClassifier(), DecisionTreeClassifier()]\n",
            "{'lr': LogisticRegression(), 'knn': KNeighborsClassifier(), 'dt': DecisionTreeClassifier()}\n",
            "LabelEncoder()\n",
            "hard\n"
          ]
        }
      ],
      "source": [
        "# Example of weighted averaging\n",
        "\n",
        "from sklearn.ensemble import VotingClassifier\n",
        "from sklearn.neighbors import KNeighborsClassifier\n",
        "from sklearn.linear_model import LogisticRegression\n",
        "from sklearn.tree import DecisionTreeClassifier\n",
        "\n",
        "# Initializing all the model objects with default parameters\n",
        "model_1 = LogisticRegression()\n",
        "model_2 = KNeighborsClassifier()\n",
        "model_3 = DecisionTreeClassifier()\n",
        "\n",
        "# Weights for the models\n",
        "weights = [0.5, 0.7, 0.9]\n",
        "\n",
        "# Making the final model using voting classifier\n",
        "final_model = VotingClassifier(estimators=[('lr', model_1), ('knn', model_2), ('dt', model_3)], weights=weights)\n",
        " \n",
        "# Predicting the output on the test dataset\n",
        "final_model.fit(X_train, y_train)\n",
        "\n",
        "y_hat = clf.predict(X_test)\n",
        "\n",
        "# Accuracy\n",
        "print(f'Accuracy Score is {accuracy_score(y_test, y_hat)}')\n",
        "\n",
        "# Model Attributes\n",
        "print(final_model.estimators_)\n",
        "print(final_model.named_estimators)\n",
        "print(final_model.le_)\n",
        "print(final_model.voting)\n"
      ]
    },
    {
      "cell_type": "markdown",
      "metadata": {
        "id": "o91kZWLNdq7s"
      },
      "source": [
        "# Advanced Ensemble Methods\n",
        "\n",
        "## Bagging\n",
        "\n",
        "### Conceptual Explanation \n",
        "\n",
        "It is also known as a bootstrapping method. Base models are run on bags to get a fair distribution of the whole dataset. A bag is a subset of the dataset along with a replacement to make the size of the bag the same as the whole dataset. The final output is formed after combining the output of all base models. \n",
        "\n",
        "Algorithm:\n",
        "\n",
        "1. Create multiple datasets from the train dataset by selecting observations with replacements.\n",
        "2. Run a base model on each of the created datasets independently.\n",
        "3. Combine the predictions of all the base models to each the final output.\n",
        "\n",
        "**References**: \n",
        "\n",
        "- https://scikit-learn.org/stable/modules/generated/sklearn.ensemble.BaggingClassifier.html#sklearn.ensemble.BaggingClassifier\n",
        "- https://scikit-learn.org/stable/modules/generated/sklearn.ensemble.BaggingRegressor.html#sklearn.ensemble.BaggingRegressor\n",
        "- https://www.geeksforgeeks.org/ensemble-methods-in-python/"
      ]
    },
    {
      "cell_type": "code",
      "execution_count": 26,
      "metadata": {
        "id": "bVe3R4Gcdq7s",
        "outputId": "4897a551-8271-4fc9-da1f-625ca5e0ea9f",
        "colab": {
          "base_uri": "https://localhost:8080/"
        }
      },
      "outputs": [
        {
          "output_type": "stream",
          "name": "stdout",
          "text": [
            "Accuracy Score is 0.9708029197080292\n"
          ]
        }
      ],
      "source": [
        "# Example of Bagging Classifier \n",
        "from sklearn.svm import SVC\n",
        "from sklearn.ensemble import BaggingClassifier\n",
        "\n",
        "clf = BaggingClassifier(base_estimator=SVC(), n_estimators=10, random_state=0)\n",
        "clf.fit(X_train, y_train)\n",
        "y_hat = clf.predict(X_test)\n",
        "\n",
        "# Accuracy\n",
        "print(f'Accuracy Score is {accuracy_score(y_test, y_hat)}')\n"
      ]
    },
    {
      "cell_type": "markdown",
      "metadata": {
        "id": "p-zWsx4Odq7s"
      },
      "source": [
        "## Boosting\n",
        "\n",
        "### Conceptual Explanation \n",
        "\n",
        "Boosting is a sequential method–it aims to prevent a wrong base model from affecting the final output. Instead of combing the base models, the method focuses on building a new model that is dependent on the previous one. A new model tries to remove the errors made by its previous one. Each of these models is called weak learners. The final model (aka strong learner) is formed by getting the weighted mean of all the weak learners. \n",
        "\n",
        "Algorithm:\n",
        "\n",
        "1. Take a subset of the train dataset.\n",
        "2. Train a base model on that dataset.\n",
        "3. Use third model to make predictions on the whole dataset.\n",
        "4. Calculate errors using the predicted values and actual values.\n",
        "5. Initialize all data points with same weight.\n",
        "6. Assign higher weight to incorrectly predicted data points.\n",
        "7. Make another model, make predictions using the new model in such a way that errors made by the previous model are mitigated/corrected.\n",
        "8. Similarly, create multiple models–each successive model correcting the errors of the previous model.\n",
        "9. The final model (strong learner) is the weighted mean of all the previous models (weak learners).\n",
        "\n",
        "**References**: \n",
        "\n",
        "- https://scikit-learn.org/stable/modules/generated/sklearn.ensemble.GradientBoostingClassifier.html "
      ]
    },
    {
      "cell_type": "code",
      "execution_count": 27,
      "metadata": {
        "id": "73y9PJQFdq7t",
        "outputId": "244703b4-633a-47b5-f0f7-fdbc5b87ea9d",
        "colab": {
          "base_uri": "https://localhost:8080/"
        }
      },
      "outputs": [
        {
          "output_type": "stream",
          "name": "stdout",
          "text": [
            "Accuracy Score is 0.9708029197080292\n"
          ]
        }
      ],
      "source": [
        "# Example of Bosting Classifier\n",
        "from sklearn.ensemble import GradientBoostingClassifier\n",
        "\n",
        "clf = GradientBoostingClassifier(n_estimators=100, learning_rate=1.0, max_depth=1, random_state=0)\n",
        "clf.fit(X_train, y_train)\n",
        "y_hat = clf.predict(X_test)\n",
        "\n",
        "# Accuracy\n",
        "print(f'Accuracy Score is {accuracy_score(y_test, y_hat)}')"
      ]
    },
    {
      "cell_type": "markdown",
      "metadata": {
        "id": "4zb8WNtRdq7t"
      },
      "source": [
        "## Stacking\n",
        "\n",
        "### Conceptual Explanation \n",
        "\n",
        "It is an ensemble method that combines multiple models (classification or regression) via meta-model (meta-classifier or meta-regression). The base models are trained on the complete dataset, then the meta-model is trained on features returned (as output) from base models. The base models in stacking are typically different. The meta-model helps to find the features from base models to achieve the best accuracy.\n",
        "\n",
        "Algorithm:\n",
        "\n",
        "1. Split the train dataset into n parts\n",
        "2. A base model (say linear regression) is fitted on n-1 parts and predictions are made for the nth part. This is done for each one of the n part of the train set.\n",
        "3. The base model is then fitted on the whole train dataset.\n",
        "4. This model is used to predict the test dataset.\n",
        "5. The Steps 2 to 4 are repeated for another base model which results in another set of predictions for the train and test dataset.\n",
        "6. The predictions on train data set are used as a feature to build the new model.\n",
        "7. This final model is used to make the predictions on test dataset\n",
        "\n",
        "**References**: \n",
        "\n",
        "- https://scikit-learn.org/stable/modules/generated/sklearn.ensemble.StackingClassifier.html"
      ]
    },
    {
      "cell_type": "code",
      "execution_count": 28,
      "metadata": {
        "id": "ArxmE1Gydq7t",
        "outputId": "af2f5022-3793-4b7f-d466-78cc0bd6de02",
        "colab": {
          "base_uri": "https://localhost:8080/"
        }
      },
      "outputs": [
        {
          "output_type": "stream",
          "name": "stdout",
          "text": [
            "Accuracy Score is 0.9562043795620438\n"
          ]
        }
      ],
      "source": [
        "# Example of Stacking Classifier\n",
        "from sklearn.svm import LinearSVC\n",
        "from sklearn.pipeline import make_pipeline\n",
        "from sklearn.ensemble import StackingClassifier\n",
        "from sklearn.preprocessing import StandardScaler\n",
        "from sklearn.ensemble import RandomForestClassifier\n",
        "\n",
        "estimators = [\n",
        "    ('rf', RandomForestClassifier(n_estimators=10, random_state=42)),\n",
        "    ('svr', make_pipeline(StandardScaler(), LinearSVC(random_state=42)))\n",
        "]\n",
        "\n",
        "clf = StackingClassifier(estimators=estimators, final_estimator=LogisticRegression())\n",
        "clf.fit(X_train, y_train)\n",
        "y_hat = clf.predict(X_test)\n",
        "\n",
        "# Accuracy\n",
        "print(f'Accuracy Score is {accuracy_score(y_test, y_hat)}')"
      ]
    },
    {
      "cell_type": "markdown",
      "metadata": {
        "id": "LyW9o5-tdq7t"
      },
      "source": [
        "## Blending\n",
        "\n",
        "### Conceptual Explanation \n",
        "\n",
        "It is similar to the stacking method explained above, but rather than using the whole dataset for training the base-models, a validation dataset is kept separate to make predictions. \n",
        "\n",
        "1. Split the training dataset into train, test and validation dataset.\n",
        "2. Fit all the base models using train dataset.\n",
        "3. Make predictions on validation and test dataset.\n",
        "4. These predictions are used as features to build a second level model\n",
        "5. This model is used to make predictions on test and meta-features\n",
        "\n",
        "**References**: \n",
        "\n",
        "- https://www.geeksforgeeks.org/ensemble-methods-in-python/ "
      ]
    },
    {
      "cell_type": "code",
      "execution_count": 29,
      "metadata": {
        "id": "LCJGCJ7ddq7t",
        "outputId": "15354ed5-bcff-4d0e-fa0e-a8df7c9a67d4",
        "colab": {
          "base_uri": "https://localhost:8080/"
        }
      },
      "outputs": [
        {
          "output_type": "stream",
          "name": "stdout",
          "text": [
            "16.97274343223606\n"
          ]
        }
      ],
      "source": [
        "# Example of blending\n",
        "\n",
        "from sklearn.metrics import mean_squared_error\n",
        "from sklearn.neighbors import KNeighborsRegressor\n",
        "from sklearn.linear_model import LinearRegression\n",
        "from sklearn.ensemble import RandomForestRegressor\n",
        "from sklearn.model_selection import train_test_split\n",
        "\n",
        "# Performing the train test and validation split\n",
        "train_ratio = 0.70\n",
        "validation_ratio = 0.20\n",
        "test_ratio = 0.10\n",
        "\n",
        "# Splitting between train data into training and validation dataset\n",
        "B_train, B_test, b_train, b_test = train_test_split(x, y, test_size=1-train_ratio)\n",
        "\n",
        "# Performing test validation split\n",
        "B_val, B_test, b_val, b_test = train_test_split(B_test, b_test, test_size=test_ratio/(test_ratio + validation_ratio))\n",
        "\n",
        "# Initializing all the model objects with default parameters\n",
        "model_1 = LinearRegression()\n",
        "model_2 = KNeighborsRegressor()\n",
        "model_3 = RandomForestRegressor()\n",
        "\n",
        "# Training all the model on the train dataset\n",
        " \n",
        "# Training first model\n",
        "model_1.fit(B_train, b_train)\n",
        "val_pred_1 = model_1.predict(B_val)\n",
        "test_pred_1 = model_1.predict(B_test)\n",
        " \n",
        "# Converting to dataframe\n",
        "val_pred_1 = pd.DataFrame(val_pred_1)\n",
        "test_pred_1 = pd.DataFrame(test_pred_1)\n",
        " \n",
        "# Training second model\n",
        "model_2.fit(B_train, b_train)\n",
        "val_pred_2 = model_2.predict(B_val)\n",
        "test_pred_2 = model_2.predict(B_test)\n",
        " \n",
        "# Converting to dataframe\n",
        "val_pred_2 = pd.DataFrame(val_pred_2)\n",
        "test_pred_2 = pd.DataFrame(test_pred_2)\n",
        " \n",
        "# Training third model\n",
        "model_3.fit(B_train, b_train)\n",
        "val_pred_3 = model_1.predict(B_val)\n",
        "test_pred_3 = model_1.predict(B_test)\n",
        " \n",
        "# Converting to dataframe\n",
        "val_pred_3 = pd.DataFrame(val_pred_3)\n",
        "test_pred_3 = pd.DataFrame(test_pred_3)\n",
        " \n",
        "# Concatenating validation dataset along with all the predicted validation data (meta features)\n",
        "df_val = pd.concat([B_val, val_pred_1, val_pred_2, val_pred_3], axis=1)\n",
        "df_test = pd.concat([B_test, test_pred_1, test_pred_2, test_pred_3], axis=1)\n",
        " \n",
        "# Making the final model using the meta features\n",
        "final_model = LinearRegression()\n",
        "final_model.fit(B_train, b_train)\n",
        " \n",
        "# Getting the final output\n",
        "final_pred = final_model.predict(B_test)\n",
        " \n",
        "#printing the root mean squared error between real value and predicted value\n",
        "print(mean_squared_error(b_test, final_pred))"
      ]
    },
    {
      "cell_type": "markdown",
      "metadata": {
        "id": "5SxcAjeNdq7u"
      },
      "source": [
        "# Is it possible to create our own ensemble model? If so, how would it be the approach?\n",
        "\n",
        "Yes, it is possible to create our own ensemble model. The easiest way will be to create series of models and then combine them using the Simpple Ensemble Methods as Max Voting, Averaging, Weighted Average, Bagging, Boosting, Stacking, or Blending.\n",
        "\n",
        "**References**: \n",
        "\n",
        "- https://towardsdatascience.com/ensemble-learning-using-scikit-learn-85c4531ff86a\n",
        "- https://scikit-learn.org/stable/modules/ensemble.html"
      ]
    },
    {
      "cell_type": "markdown",
      "metadata": {
        "id": "v9DQSzajdq7u"
      },
      "source": [
        "# Metrics\n",
        "\n",
        "Performance metrics are a part of every machine learning pipeline. They tell you if you’re making progress, and put a number on it. All machine learning models, whether it’s linear regression, or a SOTA technique like BERT, need a metric to judge performance\n",
        "\n",
        "**References**: \n",
        "\n",
        "- https://neptune.ai/blog/performance-metrics-in-machine-learning-complete-guide\n",
        "- https://scikit-learn.org/stable/modules/model_evaluation.html"
      ]
    },
    {
      "cell_type": "markdown",
      "metadata": {
        "id": "J_4zmUIodq7u"
      },
      "source": [
        "## Classification Metrics\n",
        "\n",
        "Classification models have discrete output, so we need a metric that compares discrete classes in some form. Classification Metrics evaluate a model’s performance and tell you how good or bad the classification is, but each of them evaluates it in a different way.\n",
        "\n",
        "The following are the metrics for evaluating classification problems:\n",
        "\n",
        "- Accuracy\n",
        "- Balanced Accuracy\n",
        "- Top k Accuracy\n",
        "- Average Precision\n",
        "- Brier Score\n",
        "- F1 Score\n",
        "- F1 Micro Score\n",
        "- F1 Macro Score\n",
        "- F1 Weighted Score\n",
        "- F1 Sample Score\n",
        "- Log Loss\n",
        "- Precision\n",
        "- Recall\n",
        "- Jaccard\n",
        "- Roc Auc\n",
        "- Roc Auc Overlap\n",
        "- Roc Auc Under Over\n",
        "\n",
        "In the following seccion, we will discuss more details of the most common metrics.\n",
        "\n",
        "### Confusion Matrix\n",
        "\n",
        "Confusion Matrix is a tabular visualization of the ground-truth labels versus model predictions. Each row of the confusion matrix represents the instances in a predicted class and each column represents the instances in an actual class. Confusion Matrix is not exactly a performance metric but sort of a basis on which other metrics evaluate the results. One example of a confusion matrix is the following image:\n",
        "\n",
        "![confusion](https://drive.google.com/uc?id=11WoKsUWrbRHMaQ1GvlYBzgwV_YLb7-NP)\n",
        "\n",
        "The confusion matrix is made up of the following elements:\n",
        "\n",
        "- **True Positives**: Number of correct predictions of the positive class.\n",
        "- **True Negatives**: Number of correct predictions of the negative class.\n",
        "- **False Positives**: Number of incorrect predictions of the positive class.\n",
        "- **False Negatives**: Number of incorrect predictions of the negative class.\n",
        "\n",
        "The idea is to try minimize the **False Positives** and **False Negatives**, since these are the ones that are most likely to be misclassified.\n",
        "\n",
        "### Accuracy\n",
        "\n",
        "Classification accuracy is perhaps the simplest metric to use and implement and is defined as the number of correct predictions divided by the total number of predictions, multiplied by 100.\n",
        "\n",
        "This metric is described with the following equation:\n",
        "\n",
        "\\begin{equation}\n",
        "Accuracy = \\frac{TP + TN}{TP + FP + TN + FN}\n",
        "\\end{equation}\n",
        "\n",
        "### Precision\n",
        "\n",
        "There are many cases in which classification accuracy is not a good indicator of your model performance. One of these scenarios is when your class distribution is imbalanced (one class is more frequent than others). In this case, even if you predict all samples as the most frequent class you would get a high accuracy rate, which does not make sense at all (because your model is not learning anything, and is just predicting everything as the top class). Precision is the ratio of true positives and total positives predicted. \n",
        "\n",
        "This metric is described with the following equation:\n",
        "\n",
        "\\begin{equation}\n",
        "Precision = \\frac{TP}{TP+FP}\n",
        "\\end{equation}\n",
        "\n",
        "### Recall\n",
        "\n",
        "Recall is another important metric, which is defined as the fraction of samples from a class which are correctly predicted by the model.\n",
        "\n",
        "This metric is described with the following equation:\n",
        "\n",
        "\\begin{equation}\n",
        "Recall = \\frac{TP}{TP+FN}\n",
        "\\end{equation}\n",
        "\n",
        "### F1\n",
        "\n",
        "Depending on application, you may want to give higher priority to recall or precision. But there are many applications in which both recall and precision are important. Therefore, it is natural to think of a way to combine these two into a single metric. One popular metric which combines precision and recall is called F1-score, which is the harmonic mean of precision and recall.\n",
        "\n",
        "This metric is described with the following equation:\n",
        "\n",
        "\\begin{equation}\n",
        "F1 = \\frac{1}{\\frac{1}{Precision} + \\frac{1}{Recall}}\n",
        "\\end{equation}\n",
        "\n",
        "### Receiver Operating Curve (ROC) \n",
        "\n",
        "The receiver operating characteristic curve is plot which shows the performance of a binary classifier as function of its cut-off threshold. It essentially shows the true positive rate (TPR) against the false positive rate (FPR) for various threshold values.\n",
        "\n",
        "One example of a ROC curve is the following image:\n",
        "\n",
        "![roc](https://drive.google.com/uc?id=11bIlNV5ZT67ykPlTeiQD6Qd_yf7XCeKK)\n",
        "\n",
        "### Area Under the Curve (AUC)\n",
        "\n",
        "The area under the curve (AUC), is an aggregated measure of performance of a binary classifier on all possible threshold values (and therefore it is threshold invariant). AUC calculates the area under the ROC curve, and therefore it is between 0 and 1. One way of interpreting AUC is as the probability that the model ranks a random positive example more highly than a random negative example.\n",
        "\n",
        "One example of a AUC curve is the following image:\n",
        "\n",
        "![auc](https://drive.google.com/uc?id=11eAaRyfUK13HxSM9gkbp9yHPeK1AlcXL)\n",
        "\n",
        "**References**: \n",
        "\n",
        "- https://neptune.ai/blog/performance-metrics-in-machine-learning-complete-guide#:~:text=Classification%20models%20have%20discrete%20output,it%20in%20a%20different%20way.\n",
        "- https://medium.com/@MohammedS/performance-metrics-for-classification-problems-in-machine-learning-part-i-b085d432082b\n",
        "- https://towardsdatascience.com/20-popular-machine-learning-metrics-part-1-classification-regression-evaluation-metrics-1ca3e282a2ce"
      ]
    },
    {
      "cell_type": "code",
      "execution_count": 30,
      "metadata": {
        "id": "B-_XSVWadq7u"
      },
      "outputs": [],
      "source": [
        "# Simple Example of Classification Metrics\n",
        "# Notebook from: https://app.neptune.ai/theaayushbajaj/sandbox/n/f884bbea-5263-4aeb-aa35-18d74b2835b9/41813125-2b9d-4332-b73f-f07c3b977372\n",
        "\n",
        "from sklearn.svm import SVC\n",
        "\n",
        "# Train a model\n",
        "clf = SVC(\n",
        "        C=1.0,\n",
        "        kernel='rbf',\n",
        "        degree=3,\n",
        "        gamma='scale',\n",
        "        coef0=0.0,\n",
        "        shrinking=True,\n",
        "        probability=False,\n",
        "        tol=0.001,\n",
        "        cache_size=200,\n",
        "        class_weight=None,\n",
        "        verbose=False,\n",
        "        max_iter=-1,\n",
        "        decision_function_shape='ovr',\n",
        "        break_ties=False,\n",
        "        random_state=None\n",
        "    )\n",
        "\n",
        "clf.fit(X_train,y_train)\n",
        "\n",
        "y_hat = clf.predict(X_test)"
      ]
    },
    {
      "cell_type": "code",
      "execution_count": 31,
      "metadata": {
        "id": "sizFP7gpdq7v",
        "outputId": "77e0fb8a-af46-486e-a422-0c224a2c733d",
        "colab": {
          "base_uri": "https://localhost:8080/"
        }
      },
      "outputs": [
        {
          "output_type": "stream",
          "name": "stdout",
          "text": [
            "Confusion Matrix:\n",
            "[[85  2]\n",
            " [ 3 47]]\n"
          ]
        }
      ],
      "source": [
        "from sklearn.metrics import confusion_matrix\n",
        "\n",
        "# Confusion Matrix\n",
        "cm = confusion_matrix(y_test, y_hat)\n",
        "print('Confusion Matrix:')\n",
        "print(cm)"
      ]
    },
    {
      "cell_type": "code",
      "execution_count": 32,
      "metadata": {
        "id": "GTEK0qlxdq7v",
        "outputId": "2bbb8b3a-10c8-4de5-eb64-dee42de7a708",
        "colab": {
          "base_uri": "https://localhost:8080/"
        }
      },
      "outputs": [
        {
          "output_type": "stream",
          "name": "stdout",
          "text": [
            "Accuracy Score is 0.9635036496350365\n"
          ]
        }
      ],
      "source": [
        "from sklearn.metrics import accuracy_score\n",
        "\n",
        "# Accuracy\n",
        "print(f'Accuracy Score is {accuracy_score(y_test,y_hat)}')"
      ]
    },
    {
      "cell_type": "code",
      "execution_count": 33,
      "metadata": {
        "id": "BHIjLi3fdq7v",
        "outputId": "306db79d-7ae2-4632-826d-ab8a8865ec87",
        "colab": {
          "base_uri": "https://localhost:8080/"
        }
      },
      "outputs": [
        {
          "output_type": "stream",
          "name": "stdout",
          "text": [
            "Precision: 0.959184\n"
          ]
        }
      ],
      "source": [
        "from sklearn.metrics import precision_score\n",
        "# Precision\n",
        "precision = precision_score(y_test, y_hat)\n",
        "print('Precision: %f' % precision)"
      ]
    },
    {
      "cell_type": "code",
      "execution_count": 34,
      "metadata": {
        "id": "19Px7R0Sdq7w",
        "outputId": "05d01b02-89cf-4e4e-9fdb-0b5d930ba9eb",
        "colab": {
          "base_uri": "https://localhost:8080/"
        }
      },
      "outputs": [
        {
          "output_type": "stream",
          "name": "stdout",
          "text": [
            "Recall: 0.940000\n"
          ]
        }
      ],
      "source": [
        "from sklearn.metrics import recall_score\n",
        "# Recall\n",
        "recall = recall_score(y_test, y_hat)\n",
        "print('Recall: %f' % recall)"
      ]
    },
    {
      "cell_type": "code",
      "execution_count": 35,
      "metadata": {
        "id": "T7DsInWEdq7w",
        "outputId": "0fc6808f-6eb4-4dfc-af47-1e3037795d9a",
        "colab": {
          "base_uri": "https://localhost:8080/"
        }
      },
      "outputs": [
        {
          "output_type": "stream",
          "name": "stdout",
          "text": [
            "F1 Score: 0.949495\n"
          ]
        }
      ],
      "source": [
        "from sklearn.metrics import f1_score\n",
        "# F1 Score\n",
        "f1 = f1_score(y_test, y_hat)\n",
        "print('F1 Score: %f' % f1)"
      ]
    },
    {
      "cell_type": "code",
      "execution_count": 36,
      "metadata": {
        "id": "K7dmbMR3dq7w",
        "outputId": "432bc8a3-df4a-4208-c1a4-329c019259c5",
        "colab": {
          "base_uri": "https://localhost:8080/",
          "height": 313
        }
      },
      "outputs": [
        {
          "output_type": "execute_result",
          "data": {
            "text/plain": [
              "Text(0.5, 1.0, '2-class Precision-Recall curve: AP=0.96')"
            ]
          },
          "metadata": {},
          "execution_count": 36
        },
        {
          "output_type": "display_data",
          "data": {
            "text/plain": [
              "<Figure size 432x288 with 1 Axes>"
            ],
            "image/png": "[encoded data removed]"
          },
          "metadata": {
            "needs_background": "light"
          }
        }
      ],
      "source": [
        "from sklearn.metrics import plot_precision_recall_curve\n",
        "\n",
        "# Plot Precision-Recall Curve\n",
        "disp = plot_precision_recall_curve(clf, X, Y)\n",
        "disp.ax_.set_title('2-class Precision-Recall curve: AP={0:0.2f}'.format(precision))"
      ]
    },
    {
      "cell_type": "code",
      "execution_count": 37,
      "metadata": {
        "id": "U4fBmjA9dq7w",
        "outputId": "fdc539a6-c183-40e1-a234-fb7cfccdf529",
        "colab": {
          "base_uri": "https://localhost:8080/",
          "height": 297
        }
      },
      "outputs": [
        {
          "output_type": "stream",
          "name": "stdout",
          "text": [
            "No Skill: ROC AUC=0.500\n"
          ]
        },
        {
          "output_type": "display_data",
          "data": {
            "text/plain": [
              "<Figure size 432x288 with 1 Axes>"
            ],
            "image/png": "[encoded data removed]"
          },
          "metadata": {
            "needs_background": "light"
          }
        }
      ],
      "source": [
        "from sklearn.metrics import roc_curve\n",
        "from sklearn.metrics import roc_auc_score\n",
        "\n",
        "ns_probs = [0 for _ in range(len(Y))]\n",
        "\n",
        "# calculate scores\n",
        "ns_auc = roc_auc_score(Y, ns_probs)\n",
        "\n",
        "# summarize scores\n",
        "print('No Skill: ROC AUC=%.3f' % (ns_auc))\n",
        "\n",
        "# calculate roc curves\n",
        "ns_fpr, ns_tpr, _ = roc_curve(Y, ns_probs)\n",
        "\n",
        "# plot the roc curve for the model\n",
        "pyplot.plot(ns_fpr, ns_tpr, linestyle='--', label='No Skill')\n",
        "\n",
        "pyplot.xlabel('False Positive Rate')\n",
        "pyplot.ylabel('True Positive Rate')\n",
        "\n",
        "pyplot.legend()\n",
        "pyplot.show()"
      ]
    },
    {
      "cell_type": "markdown",
      "metadata": {
        "id": "DdH5Jqc6dq7x"
      },
      "source": [
        "## Regression Metrics\n",
        "\n",
        "Regression refers to predictive modeling problems that involve predicting a numeric value.\n",
        "\n",
        "It is different from classification that involves predicting a class label. Unlike classification, you cannot use classification accuracy to evaluate the predictions made by a regression model. Instead, you must use error metrics specifically designed for evaluating predictions made on regression problems and it is most Robust to outliers.\n",
        "\n",
        "The following are the metrics for evaluating regression problems:\n",
        "\n",
        "- Max Error\n",
        "- Mean Absolute Error\n",
        "- Mean Squared Error\n",
        "- Root Mean Squared Error\n",
        "- Mean Squared Logarithmic Error\n",
        "- Median Absolute Error\n",
        "- R-Squared\n",
        "- Explained Variance\n",
        "- Mean Poisson Deviance\n",
        "- Mean Gamma Deviance\n",
        "- Mean Absolute Percentage Error\n",
        "\n",
        "In the following seccion, we will discuss more details of the most common metrics.\n",
        "\n",
        "### Mean Absolute Error (MAE)\n",
        "\n",
        "MAE is a very simple metric which calculates the absolute difference between actual and predicted values. It has the advantage that the MAE you get is in the same unit as the output variable.\n",
        "\n",
        "In contrast, the disadvantage is that the graph of MAE is not differentiable so we have to apply various optimizers like gradient descent which can be differentiable.\n",
        "\n",
        "This metric is described with the following equation:\n",
        "\n",
        "\\begin{equation}\n",
        "MAE = \\frac{1}{n} \\sum_{1=n}^{i=1} \\left|h(x_n) - y_n\\right|\n",
        "\\end{equation}\n",
        "\n",
        "### Mean Squared Error (MSE)\n",
        "\n",
        "It represents the squared distance between actual and predicted values. we perform squared to avoid the cancellation of negative terms and it is the benefit of MSE. MSE is a most used and very simple metric with a little bit of change in mean absolute error. Mean squared error states that finding the squared difference between actual and predicted value.\n",
        "\n",
        "So, above we are finding the absolute difference and here we are finding the squared difference. The graph of MSE is differentiable, so you can easily use it as a loss function.\n",
        "\n",
        "It has the disadvantage that the value you get after calculating MSE is a squared unit of output. For example, the output variable is in meter (m) then after calculating MSE the output we get is in meter squared and if the data has outliers t then it penalizes the outliers most and the calculated MSE is bigger. So, in short, it is not robust to outliers which were an advantage in MAE.\n",
        "\n",
        "This metric is described with the following equation:\n",
        "\n",
        "\\begin{equation}\n",
        "MSE = \\frac{1}{n} \\sum_{1=n}^{i=1} \\left(h(x_n) - y_n\\right)^2\n",
        "\\end{equation}\n",
        "\n",
        "### Root Mean Squared Error (RMSE)\n",
        "\n",
        "As RMSE is clear by the name itself, that it is a simple square root of mean squared error. It has the advantage that the output value you get is in the same unit as the required output variable which makes interpretation of loss easy, but it is not that robust to outliers as compared to MAE.\n",
        "\n",
        "This metric is described with the following equation:\n",
        "\n",
        "\\begin{equation}\n",
        "RMSE = \\sqrt{\\frac{1}{n} \\sum_{1=n}^{i=1} \\left(h(x_n) - y_n\\right)^2}\n",
        "\\end{equation}\n",
        "\n",
        "### Root Mean Squared Logarithmic Error (RMSLE)\n",
        "\n",
        "Taking the $\\log$ of the RMSE metric slows down the scale of error. The metric is very helpful when you are developing a model without calling the inputs. In that case, the output will vary on a large scale. To control this situation of RMSE we take the $\\log$  of calculated RMSE error and resultant we get as RMSLE.\n",
        "\n",
        "This metric is described with the following equation:\n",
        "\n",
        "\\begin{equation}\n",
        "RMSLE = \\sqrt{\\frac{1}{n} \\sum_{1=n}^{i=1} \\left( \\log \\left(h(x_n) + 1\\right) - \\log \\left( y_n + 1 \\right) \\right)^2}\n",
        "\\end{equation}\n",
        "\n",
        "### R Squared ($R^2$)\n",
        "\n",
        "$R^2$ score is a metric that tells the performance of your model, not the loss in an absolute sense that how many wells did your model perform. In contrast, MAE and MSE depend on the context as we have seen whereas the R2 score is independent of context.\n",
        "\n",
        "So, with help of R squared we have a baseline model to compare a model which none of the other metrics provides. The same we have in classification problems which we call a threshold which is fixed at 0.5. So basically R2 squared calculates how must regression line is better than a mean line.\n",
        "\n",
        "This metric is described with the following equation:\n",
        "\n",
        "\\begin{equation}\n",
        "R^2 = 1 - \\frac{RSS}{TSS}\n",
        "\\end{equation}\n",
        "\n",
        "Where RSS is the Residual Sum of Squares and TSS is the Total Sum of Squares. They are described with the following formulas:\n",
        "\n",
        "\\begin{equation}\n",
        "RSS =  \\sum_{1=n}^{i=1} \\left(h(x_n) - y_n\\right)^2\n",
        "\\end{equation}\n",
        "\n",
        "\\begin{equation}\n",
        "TSS =  \\sum_{1=n}^{i=1} \\left(h(x_n) - \\overline{y}\\right)^2\n",
        "\\end{equation}\n",
        "\n",
        "### Adjusted R Squared\n",
        "\n",
        "The disadvantage of the R2 score is while adding new features in data the R2 score starts increasing or remains constant but it never decreases because It assumes that while adding more data variance of data increases.\n",
        "\n",
        "But the problem is when we add an irrelevant feature in the dataset then at that time R2 sometimes starts increasing which is incorrect. Hence, To control this situation adjusted R Squared came into existence.\n",
        "\n",
        "This metric is described with the following equation:\n",
        "\n",
        "\\begin{equation}\n",
        "R^2_a = 1 - \\left| \\left( \\frac{n-1}{n-k-1}\\right) \\times  \\left(1 - R2\\right) \\right|\n",
        "\\end{equation}\n",
        "\n",
        "Where $k$ is the number of independent variables, $n$ is the number of observations, and $R^2$ is the R squared value.\n",
        "\n",
        "**References**: \n",
        "\n",
        "- https://towardsdatascience.com/20-popular-machine-learning-metrics-part-1-classification-regression-evaluation-metrics-1ca3e282a2ce\n",
        "- https://machinelearningmastery.com/regression-metrics-for-machine-learning/\n",
        "- https://www.analyticsvidhya.com/blog/2021/05/know-the-best-evaluation-metrics-for-your-regression-model/"
      ]
    },
    {
      "cell_type": "code",
      "execution_count": 38,
      "metadata": {
        "id": "MJ9XFbUudq7x"
      },
      "outputs": [],
      "source": [
        "# Simple Example of Regression Metrics\n",
        "# Notebook from: https://app.neptune.ai/theaayushbajaj/sandbox/n/f884bbea-5263-4aeb-aa35-18d74b2835b9/41813125-2b9d-4332-b73f-f07c3b977372\n",
        "from sklearn.linear_model import LinearRegression\n",
        "\n",
        "regressor = LinearRegression()\n",
        "regressor.fit(x, y)\n",
        "y_hat = regressor.predict(x)"
      ]
    },
    {
      "cell_type": "code",
      "execution_count": 39,
      "metadata": {
        "id": "msninhmydq7y",
        "outputId": "7efb5b79-2f15-482b-d711-5727c2e25212",
        "colab": {
          "base_uri": "https://localhost:8080/"
        }
      },
      "outputs": [
        {
          "output_type": "stream",
          "name": "stdout",
          "text": [
            "MAE: 3.27 (+/- 3.35)\n"
          ]
        }
      ],
      "source": [
        "mae = np.abs(y-y_hat)\n",
        "\n",
        "print(f\"MAE: {mae.mean():0.2f} (+/- {mae.std():0.2f})\")"
      ]
    },
    {
      "cell_type": "code",
      "execution_count": 40,
      "metadata": {
        "id": "BxzdOUzBdq7y",
        "outputId": "f9ce67eb-228a-4c03-b31e-430651c40131",
        "colab": {
          "base_uri": "https://localhost:8080/"
        }
      },
      "outputs": [
        {
          "output_type": "stream",
          "name": "stdout",
          "text": [
            "MSE: 21.89 (+/- 59.14)\n"
          ]
        }
      ],
      "source": [
        "mse = (y-y_hat)**2\n",
        "\n",
        "print(f\"MSE: {mse.mean():0.2f} (+/- {mse.std():0.2f})\")"
      ]
    },
    {
      "cell_type": "code",
      "execution_count": 41,
      "metadata": {
        "id": "nDcAHlSGdq7z",
        "outputId": "7e79b2a2-0622-4dde-a786-d58efe1358c2",
        "colab": {
          "base_uri": "https://localhost:8080/"
        }
      },
      "outputs": [
        {
          "output_type": "stream",
          "name": "stdout",
          "text": [
            "RMSE: 4.68\n"
          ]
        }
      ],
      "source": [
        "mse = (y-y_hat)**2\n",
        "\n",
        "rmse = np.sqrt(mse.mean())\n",
        "\n",
        "print(f\"RMSE: {rmse:0.2f}\")"
      ]
    },
    {
      "cell_type": "code",
      "execution_count": 42,
      "metadata": {
        "id": "LS3fJilGdq7z",
        "outputId": "c67c151b-8b3a-4e07-b208-5e3a7d6d0e2d",
        "colab": {
          "base_uri": "https://localhost:8080/"
        }
      },
      "outputs": [
        {
          "output_type": "stream",
          "name": "stdout",
          "text": [
            "R^2 coefficient of determination: 74.06%\n"
          ]
        }
      ],
      "source": [
        "# R^2 coefficient of determination\n",
        "SE_line = sum((y-y_hat)**2)\n",
        "SE_mean = sum((y-y.mean())**2)\n",
        "\n",
        "r2 = 1-(SE_line/SE_mean)\n",
        "\n",
        "print(f\"R^2 coefficient of determination: {r2*100:0.2f}%\")"
      ]
    }
  ],
  "metadata": {
    "colab": {
      "name": "Notebook2.ipynb",
      "provenance": [],
      "collapsed_sections": [
        "BGXa44cgdq7f",
        "7Ia33g54dq7h",
        "6vlx0AFCdq7l",
        "3ndVrgh1dq7m",
        "VDtAhNAxdq7n",
        "pbCTMfYWdq7o",
        "gGbGmf1Mdq7p",
        "JJBrCZ4Sdq7q",
        "2GxByrZHdq7r",
        "XPxkwRGcdq7s",
        "p-zWsx4Odq7s",
        "4zb8WNtRdq7t",
        "LyW9o5-tdq7t",
        "J_4zmUIodq7u",
        "DdH5Jqc6dq7x"
      ]
    },
    "interpreter": {
      "hash": "762531c616344ec89a3ae3efe707c5228b11104740e698ce334efdf481e7418a"
    },
    "kernelspec": {
      "display_name": "Python 3.9.7 ('base')",
      "language": "python",
      "name": "python3"
    },
    "language_info": {
      "codemirror_mode": {
        "name": "ipython",
        "version": 3
      },
      "file_extension": ".py",
      "mimetype": "text/x-python",
      "name": "python",
      "nbconvert_exporter": "python",
      "pygments_lexer": "ipython3",
      "version": "3.9.7"
    },
    "orig_nbformat": 4
  },
  "nbformat": 4,
  "nbformat_minor": 0
}
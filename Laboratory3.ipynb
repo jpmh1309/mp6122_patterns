{
 "cells": [
  {
   "cell_type": "markdown",
   "metadata": {},
   "source": [
    "# Costa Rica Institute of Technology\n",
    "* Course: MP-6122 Pattern Recognition\n",
    "* Student: Jose Martinez Hdez\n",
    "* Year: 2022\n",
    "* Laboratory 3: CNN and ANN - MNIST Classification in Keras using a Jetson Nano"
   ]
  },
  {
   "cell_type": "markdown",
   "metadata": {},
   "source": [
    "**Note**: The base code was taken from the following link:\n",
    "\n",
    "- https://github.com/fmezacr/patrones/blob/master/CNN/CNN_MNIST_KERAS.ipynb"
   ]
  },
  {
   "cell_type": "markdown",
   "metadata": {},
   "source": [
    "# Jetson Nano First Steps\n",
    "\n",
    "\n",
    "![jetson](images/jetson.png)\n",
    "\n",
    "\n",
    "1. microSD card slot for main storage\n",
    "2. 40-pin expansion header\n",
    "3. Micro-USB port for 5V power input, or for Device Mode\n",
    "4. Gigabit Ethernet port\n",
    "5. USB 3.0 ports (x4)\n",
    "6. HDMI output port\n",
    "7. DisplayPort connector\n",
    "8. DC Barrel jack for 5V power input\n",
    "9. MIPI CSI-2 camera connectors\n",
    "\n",
    "**References**: \n",
    "\n",
    "- https://developer.nvidia.com/embedded/jetson-nano-developer-kit\n",
    "- https://developer.nvidia.com/embedded/learn/get-started-jetson-nano-devkit"
   ]
  },
  {
   "cell_type": "markdown",
   "metadata": {},
   "source": [
    "# Running the code in the Jetson Nano"
   ]
  }
 ],
 "metadata": {
  "language_info": {
   "name": "python"
  },
  "orig_nbformat": 4
 },
 "nbformat": 4,
 "nbformat_minor": 2
}

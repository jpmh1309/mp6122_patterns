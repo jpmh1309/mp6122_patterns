{
 "cells": [
  {
   "cell_type": "markdown",
   "metadata": {},
   "source": [
    "# Costa Rica Institute of Technology\n",
    "* Course: MP-6122 Pattern Recognition\n",
    "* Student: Jose Martinez Hdez\n",
    "* Year: 2022\n",
    "* Laboratory 3: CNN and ANN - MNIST Classification in Keras using a Jetson Nano"
   ]
  },
  {
   "cell_type": "markdown",
   "metadata": {},
   "source": [
    "**Note**: The base code was taken from the following link:\n",
    "\n",
    "- https://github.com/fmezacr/patrones/blob/master/CNN/CNN_MNIST_KERAS.ipynb"
   ]
  },
  {
   "cell_type": "markdown",
   "metadata": {},
   "source": [
    "# Introduction\n",
    "\n",
    "According to the [NVIDIA Jetson documentation](https://developer.nvidia.com/embedded/jetson-nano-developer-kit). NVIDIA® Jetson Nano™ Developer Kit is a small, powerful computer that lets you run multiple neural networks in parallel for applications like image classification, object detection, segmentation, and speech processing. All in an easy-to-use platform that runs in as little as 5 watts. The Jetson Nano could be seen in the following image:\n",
    "\n",
    "![jetson](https://drive.google.com/uc?id=12J9vuJEO6vF4UJJVMt2Os0fDUtnb7rFb)\n",
    "\n",
    "This board has the following I/O ports: \n",
    "\n",
    "1. microSD card slot for main storage\n",
    "2. 40-pin expansion header\n",
    "3. Micro-USB port for 5V power input, or for Device Mode\n",
    "4. Gigabit Ethernet port\n",
    "5. USB 3.0 ports (x4)\n",
    "6. HDMI output port\n",
    "7. DisplayPort connector\n",
    "8. DC Barrel jack for 5V power input\n",
    "9. MIPI CSI-2 camera connectors\n",
    "\n",
    "And the technical specifications are:\n",
    "\n",
    "![tech](https://drive.google.com/uc?id=13SMMkuE5Jh0UkOv1TGAbCL97h40hsIN7)\n",
    "\n",
    "**References**: \n",
    "\n",
    "- https://developer.nvidia.com/embedded/jetson-nano-developer-kit\n",
    "- https://developer.nvidia.com/embedded/learn/get-started-jetson-nano-devkit\n",
    "- https://pyimagesearch.com/2019/05/06/getting-started-with-the-nvidia-jetson-nano/"
   ]
  },
  {
   "cell_type": "markdown",
   "metadata": {},
   "source": [
    "# Getting started with the NVIDIA Jetson Nano\n",
    "\n",
    "## Prepare for Setup\n",
    "Before you can even boot up your NVIDIA Jetson Nano you need three things:\n",
    "\n",
    "1. A micro-SD card (minimum 16GB), but it is recommended to use a micro-SD card of 32GB or more.\t\n",
    "2. A 5V 2.5A MicroUSB power supply\n",
    "3. An ethernet cable or Wi-Fi usb adapter (Yes, it doesn't have Wi-Fi embedded on it 😭) \n",
    "\n",
    "To go deeper into the details of the Jetson Nano you can read the following article:\n",
    "\n",
    "- https://developer.nvidia.com/embedded/learn/get-started-jetson-nano-devkit#prepare\n",
    "\n",
    "## Write Image to the microSD Card\n",
    "\n",
    "To prepare your microSD card, you’ll need a computer with Internet connection and the ability to read and write SD cards, either via a built-in SD card slot or adapter.\n",
    "\n",
    "1. Download the [Jetson Nano Developer Kit SD Card Image](https://developer.nvidia.com/jetson-nano-sd-card-image), and note where it was saved on the computer.\n",
    "2. Write the image to your microSD card by following the instructions below according to your computer’s operating system: Windows, macOS, or Linux.\n",
    "\n",
    "    - [Instructions for Windows](https://developer.nvidia.com/embedded/learn/get-started-jetson-nano-devkit#collapse-write_windows)\n",
    "    - [Instructions for MacOS](https://developer.nvidia.com/embedded/learn/get-started-jetson-nano-devkit#collapse-write_macos)\n",
    "    - [Instructions for Linux](https://developer.nvidia.com/embedded/learn/get-started-jetson-nano-devkit#collapse-write_linux)\n",
    "\n",
    "## Setup and First Boot\n",
    "\n",
    "There are two ways to interact with the developer kit: \n",
    "\n",
    "1. With display, keyboard and mouse attached \n",
    "2. In “headless mode” via connection from another computer.\n",
    "\n",
    "You can conduct the initial setup either way. \n",
    "\n",
    "### Initial Setup with Display Attached\n",
    "\n",
    "1. Insert the microSD card (with system image already written to it) into the slot on the underside of the Jetson Nano module.\n",
    "\n",
    "![sd](https://drive.google.com/uc?id=13YjsTnZE2IVrQpAW45zDpcw4ptfrXnor)\n",
    "\n",
    "2. Set the developer kit on top of the paper stand.\n",
    "3. Power on your computer display and connect it.\n",
    "4. Connect the USB keyboard and mouse.\n",
    "4. Connect your Micro-USB power supply (or see the [Jetson Nano Developer Kit User Guide](https://developer.nvidia.com/embedded/learn/get-started-jetson-nano-devkit#) for details about using DC a power supply with a barrel jack connector). The developer kit will power on and boot automatically.\n",
    "\n",
    "In the first boot, a green LED next to the Micro-USB connector will light as soon as the developer kit powers on. When you boot the first time, the developer kit will take you through some initial setup, including:\n",
    "\n",
    "- Review and accept NVIDIA Jetson software EULA\n",
    "- Select system language, keyboard layout, and time zone\n",
    "- Create username, password, and computer name\n",
    "- Select APP partition size—it is recommended to use the max size suggested\n",
    "\n",
    "After logging in, you will see this screen. Congratulations!\n",
    "\n",
    "![screen](https://drive.google.com/uc?id=13YoDJgyMZM2u5BmyvZUAxrYtuvbyiGy2)\n",
    "\n",
    "**References**: \n",
    "\n",
    "- https://developer.nvidia.com/embedded/jetson-nano-developer-kit\n",
    "- https://developer.nvidia.com/embedded/learn/get-started-jetson-nano-devkit\n",
    "- https://pyimagesearch.com/2019/05/06/getting-started-with-the-nvidia-jetson-nano/"
   ]
  },
  {
   "cell_type": "markdown",
   "metadata": {},
   "source": [
    "# Running the first code in the Jetson Nano"
   ]
  },
  {
   "cell_type": "markdown",
   "metadata": {},
   "source": [
    "# Using the camera on the Jetson Nano"
   ]
  },
  {
   "cell_type": "markdown",
   "metadata": {},
   "source": [
    "# Example of NMIST model running in the Jetson Nano"
   ]
  }
 ],
 "metadata": {
  "language_info": {
   "name": "python"
  },
  "orig_nbformat": 4
 },
 "nbformat": 4,
 "nbformat_minor": 2
}

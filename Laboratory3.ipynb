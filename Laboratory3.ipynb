{
 "cells": [
  {
   "cell_type": "markdown",
   "metadata": {},
   "source": [
    "# Costa Rica Institute of Technology\n",
    "* Course: MP-6122 Pattern Recognition\n",
    "* Student: Jose Martinez Hdez\n",
    "* Year: 2022\n",
    "* Laboratory 3: CNN and ANN - MNIST Classification in Keras using a Jetson Nano"
   ]
  },
  {
   "cell_type": "markdown",
   "metadata": {},
   "source": [
    "**Note**: The base code was taken from the following link:\n",
    "\n",
    "- https://github.com/fmezacr/patrones/blob/master/CNN/CNN_MNIST_KERAS.ipynb"
   ]
  },
  {
   "cell_type": "markdown",
   "metadata": {},
   "source": [
    "# Introduction\n",
    "\n",
    "According to the [NVIDIA Jetson documentation](https://developer.nvidia.com/embedded/jetson-nano-developer-kit). NVIDIA® Jetson Nano™ Developer Kit is a small, powerful computer that lets you run multiple neural networks in parallel for applications like image classification, object detection, segmentation, and speech processing. All in an easy-to-use platform that runs in as little as 5 watts. The Jetson Nano could be seen in the following image:\n",
    "\n",
    "![jetson](https://drive.google.com/uc?id=12J9vuJEO6vF4UJJVMt2Os0fDUtnb7rFb)\n",
    "\n",
    "This board has the following I/O ports: \n",
    "\n",
    "1. microSD card slot for main storage\n",
    "2. 40-pin expansion header\n",
    "3. Micro-USB port for 5V power input, or for Device Mode\n",
    "4. Gigabit Ethernet port\n",
    "5. USB 3.0 ports (x4)\n",
    "6. HDMI output port\n",
    "7. DisplayPort connector\n",
    "8. DC Barrel jack for 5V power input\n",
    "9. MIPI CSI-2 camera connectors\n",
    "\n",
    "**References**: \n",
    "\n",
    "- https://developer.nvidia.com/embedded/jetson-nano-developer-kit\n",
    "- https://developer.nvidia.com/embedded/learn/get-started-jetson-nano-devkit\n",
    "- https://pyimagesearch.com/2019/05/06/getting-started-with-the-nvidia-jetson-nano/"
   ]
  },
  {
   "cell_type": "markdown",
   "metadata": {},
   "source": [
    "# Getting started with the NVIDIA Jetson Nano\n",
    "\n",
    "Before you can even boot up your NVIDIA Jetson Nano you need three things:\n",
    "\n",
    "1. A micro-SD card (minimum 16GB), but it is recommended to use a micro-SD card of 32GB or more.\t\n",
    "2. A 5V 2.5A MicroUSB power supply\n",
    "3. An ethernet cable or Wi-Fi usb adapter (Yes, it doesn't have a Wi-Fi on it 😭 ) \n",
    "\n",
    "\n",
    "**References**: \n",
    "\n",
    "- https://developer.nvidia.com/embedded/jetson-nano-developer-kit\n",
    "- https://developer.nvidia.com/embedded/learn/get-started-jetson-nano-devkit\n",
    "- https://pyimagesearch.com/2019/05/06/getting-started-with-the-nvidia-jetson-nano/"
   ]
  },
  {
   "cell_type": "markdown",
   "metadata": {},
   "source": [
    "# Running the code in the Jetson Nano"
   ]
  }
 ],
 "metadata": {
  "language_info": {
   "name": "python"
  },
  "orig_nbformat": 4
 },
 "nbformat": 4,
 "nbformat_minor": 2
}
